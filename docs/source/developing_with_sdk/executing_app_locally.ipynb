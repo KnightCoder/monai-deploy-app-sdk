{
 "cells": [
  {
   "cell_type": "markdown",
   "metadata": {},
   "source": [
    "# Executing app locally\n",
    "\n",
    "## Executing and Inspecting App in Jupyter Notebook\n",
    "\n",
    "You can define Operators and Application in Jupyter Notebook."
   ]
  },
  {
   "cell_type": "code",
   "execution_count": 1,
   "metadata": {},
   "outputs": [],
   "source": [
    "from typing import Any, List, Union\n",
    "\n",
    "import monai.deploy.core as md  # 'md' stands for MONAI Deploy (or can use 'core' instead)\n",
    "from monai.deploy.core import (Application, DataPath, ExecutionContext, Image,\n",
    "                               InputContext, IOType, Operator, OutputContext)\n",
    "\n",
    "# @md.input(\"\", DataPath, IOType.DISK)\n",
    "@md.output(\"list\", List[Union[str,int]], IOType.IN_MEMORY)\n",
    "@md.env(pip_packages=[\"numpy\"])\n",
    "class TaskA(Operator):\n",
    "    def compute(self, op_input: InputContext, op_output: OutputContext, context: ExecutionContext):\n",
    "        input_path = op_input.get().path  # input path (current path). not used here.\n",
    "        model_path = context.models.get().path  # model path. This would be \"\" if the path (default: 'models') doesn't exist.\n",
    "\n",
    "        op_output.set([\"A\", 1])\n",
    "\n",
    "@md.input(\"list\", List[Union[str,int]], IOType.IN_MEMORY)\n",
    "# @md.output(\"\", DataPath, IOType.DISK)\n",
    "@md.env(pip_packages=[\"scikit-image\"])\n",
    "class TaskB(Operator):\n",
    "    def compute(self, op_input: InputContext, op_output: OutputContext, context: ExecutionContext):\n",
    "        input_data = op_input.get()\n",
    "        print(input_data)\n",
    "        \n",
    "        output_path = op_output.get().path  #  output path (current path). not used here.\n",
    "\n",
    "@md.env(pip_packages=[\"Pillow\"])\n",
    "class App(Application):\n",
    "    def compose(self):\n",
    "        taskA = TaskA()\n",
    "        taskB = TaskB()\n",
    "        self.add_flow(taskA, taskB)\n"
   ]
  },
  {
   "cell_type": "markdown",
   "metadata": {},
   "source": [
    "Once an Application class (`App`) is defined, you can instentiate the application and execute with <a href=\"../modules/_autosummary/monai.deploy.core.Application.html#monai.deploy.core.Application.run\">Application.run()</a> method.\n",
    "\n",
    "At least one parameter (whose value is not `None` or `\"\"`) needs to be specified to execute the application inside Jupyter Notebook.\n",
    "\n",
    "Since the above example doesn't use input or output paths, we specify `\".\"` to locate current path.\n",
    "(If we specify other path for `output` and the path doesn't exist, the output path would be created during the execution.)"
   ]
  },
  {
   "cell_type": "code",
   "execution_count": 2,
   "metadata": {},
   "outputs": [
    {
     "name": "stdout",
     "output_type": "stream",
     "text": [
      "AppContext(graph=nx_digraph, input_path=input, output_path=output, model_path=models, workdir=, datastore=memory, executor=single_process_executor, resource=Resource(cpu=0, memory=0, gpu=0))\n",
      "\u001b[34mGoing to initiate execution of operator TaskA\u001b[39m\n",
      "\u001b[32mExecuting operator TaskA \u001b[33m(Process ID: 9471, Operator ID: ab200dcf-833b-40f0-a61c-884793b2d9b4)\u001b[39m\n",
      "\u001b[34mDone performing execution of operator TaskA\n",
      "\u001b[39m\n",
      "\u001b[34mGoing to initiate execution of operator TaskB\u001b[39m\n",
      "\u001b[32mExecuting operator TaskB \u001b[33m(Process ID: 9471, Operator ID: e2db0e3f-76a1-43c1-bb60-26fd7500db22)\u001b[39m\n",
      "['A', 1]\n",
      "\u001b[34mDone performing execution of operator TaskB\n",
      "\u001b[39m\n"
     ]
    }
   ],
   "source": [
    "app = App()\n",
    "print(app.context)  # print app context\n",
    "app.run(input=\".\", output=\".\")  # override 'input_path' and 'output_path' in app.context"
   ]
  },
  {
   "cell_type": "code",
   "execution_count": 3,
   "metadata": {},
   "outputs": [
    {
     "data": {
      "text/plain": [
       "AppContext(graph=nx_digraph, input_path=., output_path=., model_path=models, workdir=, datastore=memory, executor=single_process_executor, resource=Resource(cpu=0, memory=0, gpu=0))"
      ]
     },
     "execution_count": 3,
     "metadata": {},
     "output_type": "execute_result"
    }
   ],
   "source": [
    "app.context  # 'input_path' and 'output_path' are now overwritten"
   ]
  },
  {
   "cell_type": "markdown",
   "metadata": {},
   "source": [
    "You can access [Graph](/modules/_autosummary/monai.deploy.core.graphs.Graph) object through `Application.graph`"
   ]
  },
  {
   "cell_type": "code",
   "execution_count": 4,
   "metadata": {},
   "outputs": [
    {
     "name": "stdout",
     "output_type": "stream",
     "text": [
      "root_operators: [<__main__.TaskA object at 0x7fc749451358>]\n",
      "operators: [<__main__.TaskA object at 0x7fc749451358>, <__main__.TaskB object at 0x7fc749451438>]\n",
      "worklist: [<__main__.TaskA object at 0x7fc749451358>, <__main__.TaskB object at 0x7fc749451438>]\n",
      "graph.is_root(worklist[0]): True\n",
      "graph.is_leaf(worklist[1]): True\n"
     ]
    }
   ],
   "source": [
    "graph = app.graph\n",
    "print(f\"root_operators: {list(graph.get_root_operators())}\")\n",
    "print(f\"operators: {list(graph.get_operators())}\")\n",
    "worklist = list(graph.gen_worklist())\n",
    "print(f\"worklist: {worklist}\")\n",
    "print(f\"graph.is_root(worklist[0]): {graph.is_root(worklist[0])}\")\n",
    "print(f\"graph.is_leaf(worklist[1]): {graph.is_leaf(worklist[1])}\")\n"
   ]
  },
  {
   "cell_type": "markdown",
   "metadata": {},
   "source": [
    "## Executing Application through CLI\n",
    "\n",
    "Once the application is verified inside Jupyter notebook, we can write the whole application as a file(`app.py`) with the following lines at the end of the file:\n",
    "\n",
    "```python\n",
    "if __name__ == \"__main__\":\n",
    "    App(do_run=True)\n",
    "```\n",
    "\n",
    "Above lines are needed to execute the application code by using `python` interpreter."
   ]
  },
  {
   "cell_type": "code",
   "execution_count": 5,
   "metadata": {},
   "outputs": [
    {
     "name": "stdout",
     "output_type": "stream",
     "text": [
      "Overwriting app.py\n"
     ]
    }
   ],
   "source": [
    "%%writefile app.py\n",
    "from typing import Any, List, Union\n",
    "\n",
    "import monai.deploy.core as md  # 'md' stands for MONAI Deploy (or can use 'core' instead)\n",
    "from monai.deploy.core import (Application, DataPath, ExecutionContext, Image,\n",
    "                               InputContext, IOType, Operator, OutputContext)\n",
    "\n",
    "# @md.input(\"\", DataPath, IOType.DISK)\n",
    "@md.output(\"list\", List[Union[str,int]], IOType.IN_MEMORY)\n",
    "@md.env(pip_packages=[\"numpy\"])\n",
    "class TaskA(Operator):\n",
    "    def compute(self, op_input: InputContext, op_output: OutputContext, context: ExecutionContext):\n",
    "        input_path = op_input.get().path  # input path (current path). not used here.\n",
    "        model_path = context.models.get().path  # model path. This would be \"\" if the path (default: 'models') doesn't exist.\n",
    "\n",
    "        op_output.set([\"A\", 1])\n",
    "\n",
    "@md.input(\"list\", List[Union[str,int]], IOType.IN_MEMORY)\n",
    "# @md.output(\"\", DataPath, IOType.DISK)\n",
    "@md.env(pip_packages=[\"scikit-image\"])\n",
    "class TaskB(Operator):\n",
    "    def compute(self, op_input: InputContext, op_output: OutputContext, context: ExecutionContext):\n",
    "        input_data = op_input.get()\n",
    "        print(input_data)\n",
    "        \n",
    "        output_path = op_output.get().path  #  output path (current path). not used here.\n",
    "\n",
    "@md.env(pip_packages=[\"Pillow\"])\n",
    "class App(Application):\n",
    "    def compose(self):\n",
    "        taskA = TaskA()\n",
    "        taskB = TaskB()\n",
    "        self.add_flow(taskA, taskB)\n",
    "\n",
    "if __name__ == \"__main__\":\n",
    "    App(do_run=True)"
   ]
  },
  {
   "cell_type": "markdown",
   "metadata": {},
   "source": [
    "You can load the Application object from file through `monai.deploy.utils.importutil.get_application()` method.\n",
    "\n",
    "For the Application object, you can get the package information through <a href=\"../modules/_autosummary/monai.deploy.core.Application.html#monai.deploy.core.Application.get_package_info\">Application.get_package_info()</a> method"
   ]
  },
  {
   "cell_type": "code",
   "execution_count": 6,
   "metadata": {},
   "outputs": [
    {
     "name": "stdout",
     "output_type": "stream",
     "text": [
      "{\n",
      "  \"app-name\": \"App\",\n",
      "  \"app-version\": \"0.0.0\",\n",
      "  \"sdk-version\": \"0.1.0-rc.2+1.g217d6b1.dirty\",\n",
      "  \"command\": \"python3 -u /opt/monai/app/app.py\",\n",
      "  \"resource\": {\n",
      "    \"cpu\": 0,\n",
      "    \"gpu\": 0,\n",
      "    \"memory\": \"0Mi\"\n",
      "  },\n",
      "  \"models\": [],\n",
      "  \"pip-packages\": [\n",
      "    \"pillow\",\n",
      "    \"numpy\",\n",
      "    \"scikit-image\"\n",
      "  ]\n",
      "}\n"
     ]
    }
   ],
   "source": [
    "import json\n",
    "from monai.deploy.utils.importutil import get_application\n",
    "app = get_application(\"app.py\")  # the parameter can be a main application file or an application folder\n",
    "print(json.dumps(app.get_package_info(), indent=2))"
   ]
  },
  {
   "cell_type": "markdown",
   "metadata": {},
   "source": [
    "Let's run the application through CLI"
   ]
  },
  {
   "cell_type": "code",
   "execution_count": 7,
   "metadata": {},
   "outputs": [
    {
     "name": "stdout",
     "output_type": "stream",
     "text": [
      "\u001b[34mGoing to initiate execution of operator TaskA\u001b[39m\n",
      "\u001b[32mExecuting operator TaskA \u001b[33m(Process ID: 9567, Operator ID: cc8b6114-7bab-4d80-9e82-0c6c42493986)\u001b[39m\n",
      "\u001b[34mDone performing execution of operator TaskA\n",
      "\u001b[39m\n",
      "\u001b[34mGoing to initiate execution of operator TaskB\u001b[39m\n",
      "\u001b[32mExecuting operator TaskB \u001b[33m(Process ID: 9567, Operator ID: acd67d8b-fb1a-4642-aa65-a32a411f7174)\u001b[39m\n",
      "['A', 1]\n",
      "\u001b[34mDone performing execution of operator TaskB\n",
      "\u001b[39m\n"
     ]
    }
   ],
   "source": [
    "!python app.py --input . --output ."
   ]
  },
  {
   "cell_type": "markdown",
   "metadata": {},
   "source": [
    "## monai-deploy exec\n",
    "\n",
    "Above command is same with the following command line:"
   ]
  },
  {
   "cell_type": "code",
   "execution_count": 8,
   "metadata": {},
   "outputs": [
    {
     "name": "stdout",
     "output_type": "stream",
     "text": [
      "\u001b[34mGoing to initiate execution of operator TaskA\u001b[39m\n",
      "\u001b[32mExecuting operator TaskA \u001b[33m(Process ID: 9724, Operator ID: 2c697da1-831f-49ce-84b1-6451413ce367)\u001b[39m\n",
      "\u001b[34mDone performing execution of operator TaskA\n",
      "\u001b[39m\n",
      "\u001b[34mGoing to initiate execution of operator TaskB\u001b[39m\n",
      "\u001b[32mExecuting operator TaskB \u001b[33m(Process ID: 9724, Operator ID: a1c07a95-a5fd-4d58-809e-e4f2fbc101ce)\u001b[39m\n",
      "['A', 1]\n",
      "\u001b[34mDone performing execution of operator TaskB\n",
      "\u001b[39m\n"
     ]
    }
   ],
   "source": [
    "!monai-deploy exec app.py --input . --output ."
   ]
  },
  {
   "cell_type": "markdown",
   "metadata": {},
   "source": [
    "```bash\n",
    "monai-deploy exec --help\n",
    "```\n",
    "\n",
    "Output:\n",
    "\n",
    "```bash\n",
    "usage: monai-deploy exec [-h] [-l {DEBUG,INFO,WARN,ERROR,CRITICAL}]\n",
    "                         [--input INPUT] [--output OUTPUT] [--model MODEL]\n",
    "                         [--workdir WORKDIR] [--graph {nx_digraph}]\n",
    "                         [--datastore {memory}]\n",
    "                         [--executor {single_process_executor}]\n",
    "                         [remaining [remaining ...]]\n",
    "\n",
    "positional arguments:\n",
    "  remaining\n",
    "\n",
    "optional arguments:\n",
    "  -h, --help            show this help message and exit\n",
    "  -l {DEBUG,INFO,WARN,ERROR,CRITICAL}, --log-level {DEBUG,INFO,WARN,ERROR,CRITICAL}\n",
    "                        Set the logging level (default: INFO)\n",
    "  --input INPUT, -i INPUT\n",
    "                        Path to input folder/file (default: input)\n",
    "  --output OUTPUT, -o OUTPUT\n",
    "                        Path to output folder (default: output)\n",
    "  --model MODEL, -m MODEL\n",
    "                        Path to model(s) folder/file (default: models)\n",
    "  --workdir WORKDIR, -w WORKDIR\n",
    "                        Path to workspace folder (default: A temporary\n",
    "                        '.monai_workdir' folder in the current folder)\n",
    "  --graph {nx_digraph}  Set Graph engine (default: nx_digraph)\n",
    "  --datastore {memory}  Set Datastore (default: memory)\n",
    "  --executor {single_process_executor}\n",
    "                        Set Executor (default: single_process_executor)\n",
    "```"
   ]
  }
 ],
 "metadata": {
  "kernelspec": {
   "display_name": "Python 3",
   "language": "python",
   "name": "python3"
  },
  "language_info": {
   "codemirror_mode": {
    "name": "ipython",
    "version": 3
   },
   "file_extension": ".py",
   "mimetype": "text/x-python",
   "name": "python",
   "nbconvert_exporter": "python",
   "pygments_lexer": "ipython3",
   "version": "3.6.13"
  }
 },
 "nbformat": 4,
 "nbformat_minor": 4
}
