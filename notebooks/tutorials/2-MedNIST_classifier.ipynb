{
 "cells": [
  {
   "cell_type": "markdown",
   "metadata": {},
   "source": [
    "# Deploying a MedNIST Classifier with MONAI Deploy App SDK\n",
    "\n",
    "This notebook demos the process of packaging up a trained model using MONAI Deploy App SDK into an artifact which can be run as a local program performing inference, a workflow job doing the same, and a Docker containerized workflow execution.\n",
    "\n",
    "\n",
    "~~BentoML provides various ways of deploying models with existing platforms like AWS or Azure but we'll focus on local deployment here since researchers are more likely to do this. This tutorial will train a MedNIST classifier like the [MONAI tutorial here](https://github.com/Project-MONAI/tutorials/blob/master/2d_classification/mednist_tutorial.ipynb) and then do the packaging as described in this [BentoML tutorial](https://github.com/bentoml/gallery/blob/master/pytorch/fashion-mnist/pytorch-fashion-mnist.ipynb).~~"
   ]
  },
  {
   "cell_type": "markdown",
   "metadata": {},
   "source": [
    "## Setup environment"
   ]
  },
  {
   "cell_type": "code",
   "execution_count": 1,
   "metadata": {},
   "outputs": [],
   "source": [
    "!python -c \"import monai\" || pip install -q \"monai[pillow, tqdm]\"\n",
    "!python -c \"import ignite\" || pip install -q \"monai[ignite]\"\n",
    "!python -c \"import gdown\" || pip install -q \"monai[gdown]\"\n",
    "!python -c \"import monai.deploy\" || pip install -q \"monai-deploy-app-sdk\""
   ]
  },
  {
   "cell_type": "markdown",
   "metadata": {},
   "source": [
    "## Setup imports"
   ]
  },
  {
   "cell_type": "code",
   "execution_count": 2,
   "metadata": {
    "tags": []
   },
   "outputs": [
    {
     "name": "stdout",
     "output_type": "stream",
     "text": [
      "MONAI version: 0.6.0\n",
      "Numpy version: 1.19.5\n",
      "Pytorch version: 1.9.0\n",
      "MONAI flags: HAS_EXT = False, USE_COMPILED = False\n",
      "MONAI rev id: 0ad9e73639e30f4f1af5a1f4a45da9cb09930179\n",
      "\n",
      "Optional dependencies:\n",
      "Pytorch Ignite version: 0.4.5\n",
      "Nibabel version: 3.2.1\n",
      "scikit-image version: 0.17.2\n",
      "Pillow version: 8.3.1\n",
      "Tensorboard version: 2.6.0\n",
      "gdown version: 3.13.0\n",
      "TorchVision version: 0.10.0\n",
      "ITK version: 5.2.0\n",
      "tqdm version: 4.62.1\n",
      "lmdb version: NOT INSTALLED or UNKNOWN VERSION.\n",
      "psutil version: 5.8.0\n",
      "pandas version: 1.1.5\n",
      "einops version: 0.3.2\n",
      "\n",
      "For details about installing the optional dependencies, please visit:\n",
      "    https://docs.monai.io/en/latest/installation.html#installing-the-recommended-dependencies\n",
      "\n"
     ]
    }
   ],
   "source": [
    "# Copyright 2020 MONAI Consortium\n",
    "# Licensed under the Apache License, Version 2.0 (the \"License\");\n",
    "# you may not use this file except in compliance with the License.\n",
    "# You may obtain a copy of the License at\n",
    "#     http://www.apache.org/licenses/LICENSE-2.0\n",
    "# Unless required by applicable law or agreed to in writing, software\n",
    "# distributed under the License is distributed on an \"AS IS\" BASIS,\n",
    "# WITHOUT WARRANTIES OR CONDITIONS OF ANY KIND, either express or implied.\n",
    "# See the License for the specific language governing permissions and\n",
    "# limitations under the License.\n",
    "\n",
    "import os\n",
    "import shutil\n",
    "import tempfile\n",
    "import glob\n",
    "import PIL.Image\n",
    "import torch\n",
    "import numpy as np\n",
    "\n",
    "from ignite.engine import Events\n",
    "\n",
    "from monai.apps import download_and_extract\n",
    "from monai.config import print_config\n",
    "from monai.networks.nets import DenseNet121\n",
    "from monai.engines import SupervisedTrainer\n",
    "from monai.transforms import (\n",
    "    AddChannel,\n",
    "    Compose,\n",
    "    LoadImage,\n",
    "    RandFlip,\n",
    "    RandRotate,\n",
    "    RandZoom,\n",
    "    ScaleIntensity,\n",
    "    EnsureType,\n",
    ")\n",
    "from monai.utils import set_determinism\n",
    "\n",
    "set_determinism(seed=0)\n",
    "\n",
    "print_config()"
   ]
  },
  {
   "cell_type": "markdown",
   "metadata": {},
   "source": [
    "## Download dataset\n",
    "\n",
    "The MedNIST dataset was gathered from several sets from [TCIA](https://wiki.cancerimagingarchive.net/display/Public/Data+Usage+Policies+and+Restrictions),\n",
    "[the RSNA Bone Age Challenge](http://rsnachallenges.cloudapp.net/competitions/4),\n",
    "and [the NIH Chest X-ray dataset](https://cloud.google.com/healthcare/docs/resources/public-datasets/nih-chest).\n",
    "\n",
    "The dataset is kindly made available by [Dr. Bradley J. Erickson M.D., Ph.D.](https://www.mayo.edu/research/labs/radiology-informatics/overview) (Department of Radiology, Mayo Clinic)\n",
    "under the Creative Commons [CC BY-SA 4.0 license](https://creativecommons.org/licenses/by-sa/4.0/).\n",
    "\n",
    "If you use the MedNIST dataset, please acknowledge the source."
   ]
  },
  {
   "cell_type": "code",
   "execution_count": 3,
   "metadata": {
    "tags": []
   },
   "outputs": [
    {
     "name": "stdout",
     "output_type": "stream",
     "text": [
      "/tmp/tmp6lgy6bsy\n"
     ]
    },
    {
     "name": "stderr",
     "output_type": "stream",
     "text": [
      "Downloading...\n",
      "From: https://drive.google.com/uc?id=1QsnnkvZyJPcbRoV_ArW8SnE1OTuoVbKE\n",
      "To: /tmp/tmprsr1p079/MedNIST.tar.gz\n",
      "61.8MB [00:06, 10.3MB/s]\n"
     ]
    },
    {
     "name": "stdout",
     "output_type": "stream",
     "text": [
      "Downloaded: /tmp/tmp6lgy6bsy/MedNIST.tar.gz\n",
      "Verified 'MedNIST.tar.gz', md5: 0bc7306e7427e00ad1c5526a6677552d.\n",
      "Writing into directory: /tmp/tmp6lgy6bsy.\n"
     ]
    }
   ],
   "source": [
    "directory = os.environ.get(\"MONAI_DATA_DIRECTORY\")\n",
    "root_dir = tempfile.mkdtemp() if directory is None else directory\n",
    "print(root_dir)\n",
    "\n",
    "resource = \"https://drive.google.com/uc?id=1QsnnkvZyJPcbRoV_ArW8SnE1OTuoVbKE\"\n",
    "md5 = \"0bc7306e7427e00ad1c5526a6677552d\"\n",
    "\n",
    "compressed_file = os.path.join(root_dir, \"MedNIST.tar.gz\")\n",
    "data_dir = os.path.join(root_dir, \"MedNIST\")\n",
    "if not os.path.exists(data_dir):\n",
    "    download_and_extract(resource, compressed_file, root_dir, md5)"
   ]
  },
  {
   "cell_type": "code",
   "execution_count": 4,
   "metadata": {},
   "outputs": [
    {
     "name": "stdout",
     "output_type": "stream",
     "text": [
      "Label names: ['AbdomenCT', 'BreastMRI', 'CXR', 'ChestCT', 'Hand', 'HeadCT']\n",
      "Label counts: [10000, 8954, 10000, 10000, 10000, 10000]\n",
      "Total image count: 58954\n",
      "Image dimensions: 64 x 64\n"
     ]
    }
   ],
   "source": [
    "subdirs = sorted(glob.glob(f\"{data_dir}/*/\"))\n",
    "\n",
    "class_names = [os.path.basename(sd[:-1]) for sd in subdirs]\n",
    "image_files = [glob.glob(f\"{sb}/*\") for sb in subdirs]\n",
    "\n",
    "image_files_list = sum(image_files, [])\n",
    "image_class = sum(([i] * len(f) for i, f in enumerate(image_files)), [])\n",
    "image_width, image_height = PIL.Image.open(image_files_list[0]).size\n",
    "\n",
    "print(f\"Label names: {class_names}\")\n",
    "print(f\"Label counts: {list(map(len, image_files))}\")\n",
    "print(f\"Total image count: {len(image_class)}\")\n",
    "print(f\"Image dimensions: {image_width} x {image_height}\")"
   ]
  },
  {
   "cell_type": "markdown",
   "metadata": {},
   "source": [
    "## Setup and Train\n",
    "\n",
    "Here we'll create a transform sequence and train the network, omitting validation and testing since we know this does indeed work and it's not needed here:"
   ]
  },
  {
   "cell_type": "code",
   "execution_count": 5,
   "metadata": {},
   "outputs": [],
   "source": [
    "train_transforms = Compose(\n",
    "    [\n",
    "        LoadImage(image_only=True),\n",
    "        AddChannel(),\n",
    "        ScaleIntensity(),\n",
    "        RandRotate(range_x=np.pi / 12, prob=0.5, keep_size=True),\n",
    "        RandFlip(spatial_axis=0, prob=0.5),\n",
    "        RandZoom(min_zoom=0.9, max_zoom=1.1, prob=0.5),\n",
    "        EnsureType(),\n",
    "    ]\n",
    ")"
   ]
  },
  {
   "cell_type": "code",
   "execution_count": 6,
   "metadata": {},
   "outputs": [],
   "source": [
    "class MedNISTDataset(torch.utils.data.Dataset):\n",
    "    def __init__(self, image_files, labels, transforms):\n",
    "        self.image_files = image_files\n",
    "        self.labels = labels\n",
    "        self.transforms = transforms\n",
    "\n",
    "    def __len__(self):\n",
    "        return len(self.image_files)\n",
    "\n",
    "    def __getitem__(self, index):\n",
    "        return self.transforms(self.image_files[index]), self.labels[index]\n",
    "\n",
    "\n",
    "# just one dataset and loader, we won't bother with validation or testing \n",
    "train_ds = MedNISTDataset(image_files_list, image_class, train_transforms)\n",
    "train_loader = torch.utils.data.DataLoader(train_ds, batch_size=300, shuffle=True, num_workers=10)"
   ]
  },
  {
   "cell_type": "code",
   "execution_count": 7,
   "metadata": {},
   "outputs": [],
   "source": [
    "device = torch.device(\"cuda:0\")\n",
    "net = DenseNet121(spatial_dims=2, in_channels=1, out_channels=len(class_names)).to(device)\n",
    "loss_function = torch.nn.CrossEntropyLoss()\n",
    "opt = torch.optim.Adam(net.parameters(), 1e-5)\n",
    "max_epochs = 5"
   ]
  },
  {
   "cell_type": "code",
   "execution_count": 8,
   "metadata": {},
   "outputs": [
    {
     "name": "stderr",
     "output_type": "stream",
     "text": [
      "Named tensors and all their associated APIs are an experimental feature and subject to change. Please do not use them for anything important until they are released as stable. (Triggered internally at  /opt/conda/conda-bld/pytorch_1623448272031/work/c10/core/TensorImpl.h:1156.)\n"
     ]
    },
    {
     "name": "stdout",
     "output_type": "stream",
     "text": [
      "Epoch 1/5 Loss: 0.1811893731355667\n",
      "Epoch 2/5 Loss: 0.08026652783155441\n",
      "Epoch 3/5 Loss: 0.05008228123188019\n",
      "Epoch 4/5 Loss: 0.01724996417760849\n",
      "Epoch 5/5 Loss: 0.029151903465390205\n"
     ]
    }
   ],
   "source": [
    "def _prepare_batch(batch, device, non_blocking):\n",
    "    return tuple(b.to(device) for b in batch)\n",
    "\n",
    "\n",
    "trainer = SupervisedTrainer(device, max_epochs, train_loader, net, opt, loss_function, prepare_batch=_prepare_batch)\n",
    "\n",
    "\n",
    "@trainer.on(Events.EPOCH_COMPLETED)\n",
    "def _print_loss(engine):\n",
    "    print(f\"Epoch {engine.state.epoch}/{engine.state.max_epochs} Loss: {engine.state.output[0]['loss']}\")\n",
    "\n",
    "\n",
    "trainer.run()"
   ]
  },
  {
   "cell_type": "markdown",
   "metadata": {},
   "source": [
    "The network will be saved out here as a Torchscript object named `classifier.zip`"
   ]
  },
  {
   "cell_type": "code",
   "execution_count": 9,
   "metadata": {},
   "outputs": [],
   "source": [
    "torch.jit.script(net).save(\"classifier.zip\")"
   ]
  },
  {
   "cell_type": "markdown",
   "metadata": {},
   "source": [
    "## Packaging Inference Appplication with MONAI Deploy App SDK\n",
    "\n",
    "~~BentoML provides it's platform through an API to wrap service requests as method calls. This is obviously similar to how Flask works (which is one of the underlying technologies used here), but on top of this is provided various facilities for storing the network (artifacts), handling the IO component of requests, and caching data. What we need to provide is a script file to represent the services we want, BentoML will take this with the artifacts we provide and store this in a separate location which can be run locally as well as uploaded to a server (sort of like Docker registries).~~\n",
    "\n"
   ]
  },
  {
   "cell_type": "markdown",
   "metadata": {},
   "source": [
    "### Creating Application and Operations and connecting them"
   ]
  },
  {
   "cell_type": "markdown",
   "metadata": {},
   "source": [
    "~~The script below will create our API which includes MONAI code. The transform sequence needs a special read Transform to turn a data stream into an image, but otherwise the code like what was used above for training. The network is stored as an artifact which in practice is the stored weights in the BentoML bundle. This is loaded at runtime automatically, but instead we could load the Torchscript model instead if we wanted to, in particular if we wanted an API that didn't rely on MONAI code. ~~\n",
    "\n",
    "The script needs to be written out to a file first:"
   ]
  },
  {
   "cell_type": "code",
   "execution_count": 11,
   "metadata": {},
   "outputs": [
    {
     "name": "stdout",
     "output_type": "stream",
     "text": [
      "Writing mednist_classifier_monaideploy.py\n"
     ]
    }
   ],
   "source": [
    "%%writefile mednist_classifier_monaideploy.py\n",
    "\n",
    "# Copyright 2021 MONAI Consortium\n",
    "# Licensed under the Apache License, Version 2.0 (the \"License\");\n",
    "# you may not use this file except in compliance with the License.\n",
    "# You may obtain a copy of the License at\n",
    "#     http://www.apache.org/licenses/LICENSE-2.0\n",
    "# Unless required by applicable law or agreed to in writing, software\n",
    "# distributed under the License is distributed on an \"AS IS\" BASIS,\n",
    "# WITHOUT WARRANTIES OR CONDITIONS OF ANY KIND, either express or implied.\n",
    "# See the License for the specific language governing permissions and\n",
    "# limitations under the License.\n",
    "\n",
    "from monai.deploy.core import (\n",
    "    Application,\n",
    "    DataPath,\n",
    "    ExecutionContext,\n",
    "    Image,\n",
    "    InputContext,\n",
    "    IOType,\n",
    "    Operator,\n",
    "    OutputContext,\n",
    "    env,\n",
    "    input,\n",
    "    output,\n",
    "    resource,\n",
    ")\n",
    "from monai.transforms import AddChannel, Compose, EnsureType, ScaleIntensity\n",
    "\n",
    "MEDNIST_CLASSES = [\"AbdomenCT\", \"BreastMRI\", \"CXR\", \"ChestCT\", \"Hand\", \"HeadCT\"]\n",
    "\n",
    "\n",
    "@input(\"image\", DataPath, IOType.DISK)\n",
    "@output(\"image\", Image, IOType.IN_MEMORY)\n",
    "@env(pip_packages=[\"pillow\"])\n",
    "class LoadPILOperator(Operator):\n",
    "    \"\"\"Load image from the given input (DataPath) and set numpy array to the output (Image).\"\"\"\n",
    "\n",
    "    def compute(self, input: InputContext, output: OutputContext, context: ExecutionContext):\n",
    "        import numpy as np\n",
    "        from PIL import Image as PILImage\n",
    "\n",
    "        input_path = input.get().path\n",
    "\n",
    "        image = PILImage.open(input_path)\n",
    "        image = image.convert(\"L\")  # convert to greyscale image\n",
    "        image_arr = np.asarray(image)\n",
    "\n",
    "        output_image = Image(image_arr)  # create Image domain object with a numpy array\n",
    "        output.set(output_image)\n",
    "\n",
    "\n",
    "@input(\"image\", Image, IOType.IN_MEMORY)\n",
    "@output(\"output\", DataPath, IOType.DISK)\n",
    "@env(pip_packages=[\"monai\"])\n",
    "class MedNISTClassifierOperator(Operator):\n",
    "    \"\"\"Classifies the given image and returns the class name.\"\"\"\n",
    "\n",
    "    @property\n",
    "    def transform(self):\n",
    "        return Compose([AddChannel(), ScaleIntensity(), EnsureType()])\n",
    "\n",
    "    def compute(self, input: InputContext, output: OutputContext, context: ExecutionContext):\n",
    "        import json\n",
    "\n",
    "        import torch\n",
    "\n",
    "        img = input.get().asnumpy()  # (64, 64), uint8\n",
    "        image_tensor = self.transform(img)  # (1, 64, 64), torch.float64\n",
    "        image_tensor = image_tensor[None].float()  # (1, 1, 64, 64), torch.float32\n",
    "\n",
    "        # Comment below line if you want to do CPU inference\n",
    "        image_tensor = image_tensor.cuda()\n",
    "\n",
    "        model = context.models.get()  # get a TorchScriptModel object\n",
    "        # Uncomment the following line if you want to do CPU inference\n",
    "        # model.predictor = torch.jit.load(model.path, map_location=\"cpu\").eval()\n",
    "\n",
    "        with torch.no_grad():\n",
    "            outputs = model(image_tensor)\n",
    "\n",
    "        _, output_classes = outputs.max(dim=1)\n",
    "\n",
    "        result = MEDNIST_CLASSES[output_classes[0]]  # get the class name\n",
    "        print(result)\n",
    "\n",
    "        # Get output (folder) path and create the folder if not exists\n",
    "        output_folder = output.get().path\n",
    "        output_folder.mkdir(parents=True, exist_ok=True)\n",
    "\n",
    "        # Write result to \"output.json\"\n",
    "        output_path = output_folder / \"output.json\"\n",
    "        with open(output_path, \"w\") as fp:\n",
    "            json.dump(result, fp)\n",
    "\n",
    "\n",
    "@resource(cpu=1, memory=\"1Gi\")\n",
    "class App(Application):\n",
    "    \"\"\"Application class for the MedNIST classifier.\"\"\"\n",
    "\n",
    "    def compose(self):\n",
    "        load_pil_op = LoadPILOperator()\n",
    "        classifier_op = MedNISTClassifierOperator()\n",
    "\n",
    "        self.add_flow(load_pil_op, classifier_op)\n",
    "\n",
    "\n",
    "if __name__ == \"__main__\":\n",
    "    App(do_run=True)"
   ]
  },
  {
   "cell_type": "markdown",
   "metadata": {},
   "source": [
    "### Executing app locally"
   ]
  },
  {
   "cell_type": "code",
   "execution_count": 12,
   "metadata": {},
   "outputs": [
    {
     "name": "stdout",
     "output_type": "stream",
     "text": [
      "Test input file path: /tmp/tmp6lgy6bsy/MedNIST/AbdomenCT/007000.jpeg\n"
     ]
    }
   ],
   "source": [
    "print(f\"Test input file path: {image_files[0][0]}\")"
   ]
  },
  {
   "cell_type": "code",
   "execution_count": 13,
   "metadata": {},
   "outputs": [
    {
     "name": "stdout",
     "output_type": "stream",
     "text": [
      "\u001b[34mGoing to initiate execution of operator LoadPILOperator\u001b[39m\n",
      "\u001b[32mExecuting operator LoadPILOperator \u001b[33m(Process ID: 24083, Operator ID: 68b38511-63d1-4a73-a438-a675b66262d2)\u001b[39m\n",
      "\u001b[34mDone performing execution of operator LoadPILOperator\n",
      "\u001b[39m\n",
      "\u001b[34mGoing to initiate execution of operator MedNISTClassifierOperator\u001b[39m\n",
      "\u001b[32mExecuting operator MedNISTClassifierOperator \u001b[33m(Process ID: 24083, Operator ID: a82bb8c3-b4c3-43d0-8ec1-3e8c7b79b971)\u001b[39m\n",
      "Named tensors and all their associated APIs are an experimental feature and subject to change. Please do not use them for anything important until they are released as stable. (Triggered internally at  /opt/conda/conda-bld/pytorch_1623448272031/work/c10/core/TensorImpl.h:1156.)\n",
      "AbdomenCT\n",
      "\u001b[34mDone performing execution of operator MedNISTClassifierOperator\n",
      "\u001b[39m\n"
     ]
    }
   ],
   "source": [
    "!python mednist_classifier_monaideploy.py -i {image_files[0][0]} -o output -m classifier.zip"
   ]
  },
  {
   "cell_type": "code",
   "execution_count": 14,
   "metadata": {},
   "outputs": [
    {
     "name": "stdout",
     "output_type": "stream",
     "text": [
      "\"AbdomenCT\""
     ]
    }
   ],
   "source": [
    "!cat output/output.json"
   ]
  },
  {
   "cell_type": "markdown",
   "metadata": {},
   "source": [
    "### Packaging app"
   ]
  },
  {
   "cell_type": "code",
   "execution_count": 15,
   "metadata": {},
   "outputs": [
    {
     "name": "stdout",
     "output_type": "stream",
     "text": [
      "[2021-09-11 01:01:42,809] [DEBUG] (app_packager) - FROM nvcr.io/nvidia/pytorch:21.07-py3\n",
      "\n",
      "    ARG MONAI_GID=1000\n",
      "    ARG MONAI_UID=1000\n",
      "\n",
      "    LABEL base=\"nvcr.io/nvidia/pytorch:21.07-py3\"\n",
      "    LABEL tag=\"mednist_app:latest\"\n",
      "    LABEL version=\"0.0.0\"\n",
      "    LABEL sdk_version=\"0.1.0-a.2\"\n",
      "\n",
      "    ENV DEBIAN_FRONTEND=noninteractive\n",
      "    ENV TERM=xterm-256color\n",
      "    ENV MONAI_INPUTPATH=/var/monai/input\n",
      "    ENV MONAI_OUTPUTPATH=/var/monai/output\n",
      "    ENV MONAI_WORKDIR=/var/monai\n",
      "    ENV MONAI_APPLICATION=/opt/monai/app\n",
      "    ENV MONAI_TIMEOUT=0\n",
      "\n",
      "    RUN apt update \\\n",
      "     && apt upgrade -y --no-install-recommends \\\n",
      "     && apt install -y --no-install-recommends \\\n",
      "        curl \\\n",
      "        unzip \\\n",
      "     && apt autoremove -y \\\n",
      "     && rm -rf /var/lib/apt/lists/*\n",
      "    \n",
      "    USER root\n",
      "\n",
      "    RUN pip install --no-cache-dir --upgrade setuptools==57.4.0 pip==21.2.4 wheel==0.37.0\n",
      "\n",
      "    RUN groupadd -g $MONAI_GID -o -r monai\n",
      "    RUN useradd -g $MONAI_GID -u $MONAI_UID -m -o -r monai\n",
      "\n",
      "    RUN mkdir -p /etc/monai/ && chown -R monai:monai /etc/monai \\\n",
      "     && mkdir -p /opt/monai/ && chown -R monai:monai /opt/monai \\\n",
      "     && mkdir -p /var/monai && chown -R monai:monai /var/monai \\\n",
      "     && mkdir -p /opt/monai/app && chown -R monai:monai /opt/monai/app \\\n",
      "     && mkdir -p /opt/monai/executor && chown -R monai:monai /opt/monai/executor \\\n",
      "     && mkdir -p /var/monai/input && chown -R monai:monai /var/monai/input \\\n",
      "     && mkdir -p /var/monai/output && chown -R monai:monai /var/monai/output \\\n",
      "     && mkdir -p /opt/monai/models && chown -R monai:monai /opt/monai/models\n",
      "\n",
      "    RUN mkdir -p /opt/monai/models && chown -R monai:monai /opt/monai/models\n",
      "COPY --chown=monai:monai ./models /opt/monai/models\n",
      "\n",
      "\n",
      "    COPY --chown=monai:monai ./pip/requirements.txt /tmp/requirements.txt\n",
      "\n",
      "    RUN curl https://globalcdn.nuget.org/packages/monai.deploy.executor.0.1.0-prealpha.0.nupkg -o /opt/monai/executor/executor.zip \\\n",
      "     && unzip /opt/monai/executor/executor.zip -d /opt/monai/executor/executor_pkg \\\n",
      "     && mv /opt/monai/executor/executor_pkg/lib/native/linux-x64/* /opt/monai/executor \\\n",
      "     && rm -f /opt/monai/executor/executor.zip \\\n",
      "     && rm -rf /opt/monai/executor/executor_pkg \\\n",
      "     && chown -R monai:monai /opt/monai/executor \\\n",
      "     && chmod +x /opt/monai/executor/monai-exec\n",
      "\n",
      "    USER monai\n",
      "    ENV PATH=/home/monai/.local/bin:$PATH\n",
      "\n",
      "    RUN pip install --no-cache-dir --upgrade -r /tmp/requirements.txt\n",
      "\n",
      "    # Override monai-deploy-app-sdk module\n",
      "    COPY --chown=monai:monai ./monai-deploy-app-sdk /home/monai/.local/lib/python3.8/site-packages/monai/deploy/\n",
      "\n",
      "    COPY --chown=monai:monai ./map/app.json /etc/monai/\n",
      "    COPY --chown=monai:monai ./map/pkg.json /etc/monai/\n",
      "\n",
      "    COPY --chown=monai:monai ./app /opt/monai/app\n",
      "\n",
      "    # Create bytecodes for monai and app's code. This would help speed up loading time a little bit.\n",
      "    RUN python -m compileall -q -j 0 /home/monai/.local/lib/python3.8/site-packages/monai /opt/monai/app\n",
      "\n",
      "    # Set the working directory\n",
      "    WORKDIR /var/monai\n",
      "\n",
      "    ENTRYPOINT [ \"/opt/monai/executor/monai-exec\" ]\n",
      "\n",
      "Building MONAI Application Package... \n",
      "[2021-09-11 01:01:43,034] [DEBUG] (app_packager) - Sending build context to Docker daemon  28.93MB\n",
      "\n",
      "|[2021-09-11 01:01:43,037] [DEBUG] (app_packager) - Step 1/34 : FROM nvcr.io/nvidia/pytorch:21.07-py3\n",
      "\n",
      "/[2021-09-11 01:01:43,038] [DEBUG] (app_packager) -  ---> 7beec3ff8d35\n",
      "\n",
      "-[2021-09-11 01:01:43,038] [DEBUG] (app_packager) - Step 2/34 : ARG MONAI_GID=1000\n",
      "\n",
      "\\[2021-09-11 01:01:43,039] [DEBUG] (app_packager) -  ---> Using cache\n",
      "\n",
      "|[2021-09-11 01:01:43,039] [DEBUG] (app_packager) -  ---> 2ade224cdf41\n",
      "\n",
      "/[2021-09-11 01:01:43,039] [DEBUG] (app_packager) - Step 3/34 : ARG MONAI_UID=1000\n",
      "\n",
      "-[2021-09-11 01:01:43,040] [DEBUG] (app_packager) -  ---> Using cache\n",
      "\n",
      "\\[2021-09-11 01:01:43,040] [DEBUG] (app_packager) -  ---> c7b8eb6f8b58\n",
      "\n",
      "|[2021-09-11 01:01:43,040] [DEBUG] (app_packager) - Step 4/34 : LABEL base=\"nvcr.io/nvidia/pytorch:21.07-py3\"\n",
      "\n",
      "/[2021-09-11 01:01:43,040] [DEBUG] (app_packager) -  ---> Using cache\n",
      "\n",
      "-[2021-09-11 01:01:43,040] [DEBUG] (app_packager) -  ---> 540f89258df1\n",
      "\n",
      "\\[2021-09-11 01:01:43,041] [DEBUG] (app_packager) - Step 5/34 : LABEL tag=\"mednist_app:latest\"\n",
      "\n",
      "|[2021-09-11 01:01:43,044] [DEBUG] (app_packager) -  ---> Using cache\n",
      "\n",
      "/[2021-09-11 01:01:43,044] [DEBUG] (app_packager) -  ---> 07cc7190b29f\n",
      "\n",
      "-[2021-09-11 01:01:43,044] [DEBUG] (app_packager) - Step 6/34 : LABEL version=\"0.0.0\"\n",
      "\n",
      "\\[2021-09-11 01:01:43,045] [DEBUG] (app_packager) -  ---> Using cache\n",
      "\n",
      "|[2021-09-11 01:01:43,045] [DEBUG] (app_packager) -  ---> 560a0ad8719a\n",
      "\n",
      "/[2021-09-11 01:01:43,045] [DEBUG] (app_packager) - Step 7/34 : LABEL sdk_version=\"0.1.0-a.2\"\n",
      "\n",
      "-[2021-09-11 01:01:43,053] [DEBUG] (app_packager) -  ---> Using cache\n",
      "\n",
      "\\[2021-09-11 01:01:43,053] [DEBUG] (app_packager) -  ---> 3be088db50a7\n",
      "\n",
      "|[2021-09-11 01:01:43,053] [DEBUG] (app_packager) - Step 8/34 : ENV DEBIAN_FRONTEND=noninteractive\n",
      "\n",
      "/[2021-09-11 01:01:43,054] [DEBUG] (app_packager) -  ---> Using cache\n",
      "\n",
      "-[2021-09-11 01:01:43,054] [DEBUG] (app_packager) -  ---> 33df5e825fc9\n",
      "\n",
      "\\[2021-09-11 01:01:43,054] [DEBUG] (app_packager) - Step 9/34 : ENV TERM=xterm-256color\n",
      "\n",
      "|[2021-09-11 01:01:43,054] [DEBUG] (app_packager) -  ---> Using cache\n",
      "\n",
      "/[2021-09-11 01:01:43,055] [DEBUG] (app_packager) -  ---> b133ff59b1d5\n",
      "\n",
      "-[2021-09-11 01:01:43,055] [DEBUG] (app_packager) - Step 10/34 : ENV MONAI_INPUTPATH=/var/monai/input\n",
      "\n",
      "\\[2021-09-11 01:01:43,055] [DEBUG] (app_packager) -  ---> Using cache\n",
      "\n",
      "|[2021-09-11 01:01:43,055] [DEBUG] (app_packager) -  ---> adec070d98c2\n",
      "\n",
      "/[2021-09-11 01:01:43,055] [DEBUG] (app_packager) - Step 11/34 : ENV MONAI_OUTPUTPATH=/var/monai/output\n",
      "\n",
      "-[2021-09-11 01:01:43,056] [DEBUG] (app_packager) -  ---> Using cache\n",
      "\n",
      "\\[2021-09-11 01:01:43,056] [DEBUG] (app_packager) -  ---> 628048552862\n",
      "\n",
      "|[2021-09-11 01:01:43,056] [DEBUG] (app_packager) - Step 12/34 : ENV MONAI_WORKDIR=/var/monai\n",
      "\n",
      "/[2021-09-11 01:01:43,057] [DEBUG] (app_packager) -  ---> Using cache\n",
      "\n",
      "-[2021-09-11 01:01:43,057] [DEBUG] (app_packager) -  ---> 88681ce8474e\n",
      "\n",
      "\\[2021-09-11 01:01:43,057] [DEBUG] (app_packager) - Step 13/34 : ENV MONAI_APPLICATION=/opt/monai/app\n",
      "\n",
      "|[2021-09-11 01:01:43,058] [DEBUG] (app_packager) -  ---> Using cache\n",
      "\n",
      "/[2021-09-11 01:01:43,058] [DEBUG] (app_packager) -  ---> 02bf7e9af349\n",
      "\n",
      "-[2021-09-11 01:01:43,058] [DEBUG] (app_packager) - Step 14/34 : ENV MONAI_TIMEOUT=0\n",
      "\n",
      "\\[2021-09-11 01:01:43,059] [DEBUG] (app_packager) -  ---> Using cache\n",
      "\n",
      "|[2021-09-11 01:01:43,059] [DEBUG] (app_packager) -  ---> 1d81ce114825\n",
      "\n",
      "/[2021-09-11 01:01:43,059] [DEBUG] (app_packager) - Step 15/34 : RUN apt update      && apt upgrade -y --no-install-recommends      && apt install -y --no-install-recommends         curl         unzip      && apt autoremove -y      && rm -rf /var/lib/apt/lists/*\n",
      "\n",
      "-[2021-09-11 01:01:43,059] [DEBUG] (app_packager) -  ---> Using cache\n",
      "\n",
      "\\[2021-09-11 01:01:43,060] [DEBUG] (app_packager) -  ---> 89611edfa713\n",
      "\n",
      "|[2021-09-11 01:01:43,060] [DEBUG] (app_packager) - Step 16/34 : USER root\n",
      "\n",
      "/[2021-09-11 01:01:43,060] [DEBUG] (app_packager) -  ---> Using cache\n",
      "\n",
      "-[2021-09-11 01:01:43,061] [DEBUG] (app_packager) -  ---> 4d09661c8548\n",
      "\n",
      "\\[2021-09-11 01:01:43,061] [DEBUG] (app_packager) - Step 17/34 : RUN pip install --no-cache-dir --upgrade setuptools==57.4.0 pip==21.2.4 wheel==0.37.0\n",
      "\n",
      "|[2021-09-11 01:01:43,061] [DEBUG] (app_packager) -  ---> Using cache\n",
      "\n",
      "/[2021-09-11 01:01:43,061] [DEBUG] (app_packager) -  ---> 28c84fca0f2d\n",
      "\n",
      "-[2021-09-11 01:01:43,062] [DEBUG] (app_packager) - Step 18/34 : RUN groupadd -g $MONAI_GID -o -r monai\n",
      "\n",
      "\\[2021-09-11 01:01:43,062] [DEBUG] (app_packager) -  ---> Using cache\n",
      "\n",
      "|[2021-09-11 01:01:43,062] [DEBUG] (app_packager) -  ---> d45af0f8c7d0\n",
      "\n",
      "/[2021-09-11 01:01:43,062] [DEBUG] (app_packager) - Step 19/34 : RUN useradd -g $MONAI_GID -u $MONAI_UID -m -o -r monai\n",
      "\n",
      "-[2021-09-11 01:01:43,063] [DEBUG] (app_packager) -  ---> Using cache\n",
      "\n",
      "\\[2021-09-11 01:01:43,064] [DEBUG] (app_packager) -  ---> 0c1d01a3e836\n",
      "\n",
      "|[2021-09-11 01:01:43,064] [DEBUG] (app_packager) - Step 20/34 : RUN mkdir -p /etc/monai/ && chown -R monai:monai /etc/monai      && mkdir -p /opt/monai/ && chown -R monai:monai /opt/monai      && mkdir -p /var/monai && chown -R monai:monai /var/monai      && mkdir -p /opt/monai/app && chown -R monai:monai /opt/monai/app      && mkdir -p /opt/monai/executor && chown -R monai:monai /opt/monai/executor      && mkdir -p /var/monai/input && chown -R monai:monai /var/monai/input      && mkdir -p /var/monai/output && chown -R monai:monai /var/monai/output      && mkdir -p /opt/monai/models && chown -R monai:monai /opt/monai/models\n",
      "\n",
      "/[2021-09-11 01:01:43,065] [DEBUG] (app_packager) -  ---> Using cache\n",
      "\n",
      "-[2021-09-11 01:01:43,065] [DEBUG] (app_packager) -  ---> ba66bd757107\n",
      "\n",
      "\\[2021-09-11 01:01:43,065] [DEBUG] (app_packager) - Step 21/34 : RUN mkdir -p /opt/monai/models && chown -R monai:monai /opt/monai/models\n",
      "\n",
      "|[2021-09-11 01:01:43,066] [DEBUG] (app_packager) -  ---> Using cache\n",
      "\n",
      "/[2021-09-11 01:01:43,066] [DEBUG] (app_packager) -  ---> 258a9e362e69\n",
      "\n",
      "-[2021-09-11 01:01:43,066] [DEBUG] (app_packager) - Step 22/34 : COPY --chown=monai:monai ./models /opt/monai/models\n",
      "\n"
     ]
    },
    {
     "name": "stdout",
     "output_type": "stream",
     "text": [
      "\\[2021-09-11 01:01:43,364] [DEBUG] (app_packager) -  ---> 8030ed820d03\n",
      "\n",
      "|[2021-09-11 01:01:43,364] [DEBUG] (app_packager) - Step 23/34 : COPY --chown=monai:monai ./pip/requirements.txt /tmp/requirements.txt\n",
      "\n",
      "/[2021-09-11 01:01:43,465] [DEBUG] (app_packager) -  ---> 1c6a3a4f960c\n",
      "\n",
      "-[2021-09-11 01:01:43,465] [DEBUG] (app_packager) - Step 24/34 : RUN curl https://globalcdn.nuget.org/packages/monai.deploy.executor.0.1.0-prealpha.0.nupkg -o /opt/monai/executor/executor.zip      && unzip /opt/monai/executor/executor.zip -d /opt/monai/executor/executor_pkg      && mv /opt/monai/executor/executor_pkg/lib/native/linux-x64/* /opt/monai/executor      && rm -f /opt/monai/executor/executor.zip      && rm -rf /opt/monai/executor/executor_pkg      && chown -R monai:monai /opt/monai/executor      && chmod +x /opt/monai/executor/monai-exec\n",
      "\n",
      "\\[2021-09-11 01:01:43,497] [DEBUG] (app_packager) -  ---> Running in 6d46361fe03f\n",
      "\n",
      "|[2021-09-11 01:01:44,022] [DEBUG] (app_packager) - \u001b[91m  % Total    % Received % Xferd  Average Speed   Time    Time     Time  Current\n",
      "\n",
      "/[2021-09-11 01:01:44,022] [DEBUG] (app_packager) -                                  Dload  Upload   Total   Spent    Left  Speed\n",
      "\n",
      "100 15.3M  100 15.3M    0     0  9372k      0  0:00:01  0:00:01 --:--:-- 9367k\u001b[0m\u001b[91m\n",
      "\n",
      "\\[2021-09-11 01:01:45,700] [DEBUG] (app_packager) - \u001b[0mArchive:  /opt/monai/executor/executor.zip\n",
      "\n",
      "|[2021-09-11 01:01:45,700] [DEBUG] (app_packager) -   inflating: /opt/monai/executor/executor_pkg/_rels/.rels  \n",
      "\n",
      "/[2021-09-11 01:01:45,700] [DEBUG] (app_packager) -   inflating: /opt/monai/executor/executor_pkg/Monai.Deploy.Executor.nuspec  \n",
      "\n",
      "-[2021-09-11 01:01:45,755] [DEBUG] (app_packager) -   inflating: /opt/monai/executor/executor_pkg/lib/native/linux-x64/libgrpc_csharp_ext.x64.so  \n",
      "\n",
      "\\[2021-09-11 01:01:46,024] [DEBUG] (app_packager) -   inflating: /opt/monai/executor/executor_pkg/lib/native/linux-x64/monai-exec  \n",
      "\n",
      "|[2021-09-11 01:01:46,024] [DEBUG] (app_packager) -   inflating: /opt/monai/executor/executor_pkg/[Content_Types].xml  \n",
      "\n",
      "/[2021-09-11 01:01:46,025] [DEBUG] (app_packager) -   inflating: /opt/monai/executor/executor_pkg/package/services/metadata/core-properties/d85b3261a5ad4e12aa2f65d8f627f039.psmdcp  \n",
      "\n",
      "-[2021-09-11 01:01:46,025] [DEBUG] (app_packager) -  extracting: /opt/monai/executor/executor_pkg/.signature.p7s  \n",
      "\n",
      "\\[2021-09-11 01:01:46,656] [DEBUG] (app_packager) - Removing intermediate container 6d46361fe03f\n",
      "\n",
      "|[2021-09-11 01:01:46,657] [DEBUG] (app_packager) -  ---> a63c2884160e\n",
      "\n",
      "/[2021-09-11 01:01:46,657] [DEBUG] (app_packager) - Step 25/34 : USER monai\n",
      "\n",
      "-[2021-09-11 01:01:46,683] [DEBUG] (app_packager) -  ---> Running in dbb6103a21a0\n",
      "\n",
      "\\[2021-09-11 01:01:46,743] [DEBUG] (app_packager) - Removing intermediate container dbb6103a21a0\n",
      "\n",
      "|[2021-09-11 01:01:46,744] [DEBUG] (app_packager) -  ---> dfb4dcf89ece\n",
      "\n",
      "/[2021-09-11 01:01:46,744] [DEBUG] (app_packager) - Step 26/34 : ENV PATH=/home/monai/.local/bin:$PATH\n",
      "\n",
      "-[2021-09-11 01:01:46,772] [DEBUG] (app_packager) -  ---> Running in 707a8f31605a\n",
      "\n",
      "\\[2021-09-11 01:01:46,834] [DEBUG] (app_packager) - Removing intermediate container 707a8f31605a\n",
      "\n",
      "|[2021-09-11 01:01:46,834] [DEBUG] (app_packager) -  ---> 2237e2232ed9\n",
      "\n",
      "/[2021-09-11 01:01:46,834] [DEBUG] (app_packager) - Step 27/34 : RUN pip install --no-cache-dir --upgrade -r /tmp/requirements.txt\n",
      "\n",
      "-[2021-09-11 01:01:46,860] [DEBUG] (app_packager) -  ---> Running in 06f64c23176a\n",
      "\n",
      "\\[2021-09-11 01:01:47,624] [DEBUG] (app_packager) - Defaulting to user installation because normal site-packages is not writeable\n",
      "\n",
      "|[2021-09-11 01:01:47,648] [DEBUG] (app_packager) - Requirement already satisfied: pillow in /opt/conda/lib/python3.8/site-packages (from -r /tmp/requirements.txt (line 1)) (8.2.0)\n",
      "\n",
      "/[2021-09-11 01:01:48,320] [DEBUG] (app_packager) - Collecting pillow\n",
      "\n",
      "-[2021-09-11 01:01:48,431] [DEBUG] (app_packager) -   Downloading Pillow-8.3.2-cp38-cp38-manylinux_2_17_x86_64.manylinux2014_x86_64.whl (3.0 MB)\n",
      "\n",
      "\\[2021-09-11 01:01:48,863] [DEBUG] (app_packager) - Collecting monai\n",
      "\n",
      "|[2021-09-11 01:01:48,888] [DEBUG] (app_packager) -   Downloading monai-0.6.0-202107081903-py3-none-any.whl (584 kB)\n",
      "\n",
      "/[2021-09-11 01:01:48,941] [DEBUG] (app_packager) - Requirement already satisfied: colorama>=0.4.1 in /opt/conda/lib/python3.8/site-packages (from -r /tmp/requirements.txt (line 3)) (0.4.4)\n",
      "\n",
      "-[2021-09-11 01:01:49,057] [DEBUG] (app_packager) - Collecting networkx>=2.4\n",
      "\n",
      "\\[2021-09-11 01:01:49,080] [DEBUG] (app_packager) -   Downloading networkx-2.6.3-py3-none-any.whl (1.9 MB)\n",
      "\n",
      "|[2021-09-11 01:01:49,266] [DEBUG] (app_packager) - Requirement already satisfied: numpy>=1.17 in /opt/conda/lib/python3.8/site-packages (from -r /tmp/requirements.txt (line 5)) (1.21.1)\n",
      "\n",
      "/[2021-09-11 01:01:49,831] [DEBUG] (app_packager) - Collecting numpy>=1.17\n",
      "\n",
      "-[2021-09-11 01:01:49,852] [DEBUG] (app_packager) -   Downloading numpy-1.21.2-cp38-cp38-manylinux_2_12_x86_64.manylinux2010_x86_64.whl (15.8 MB)\n",
      "\n",
      "\\[2021-09-11 01:01:51,394] [DEBUG] (app_packager) - Requirement already satisfied: torch>=1.5 in /opt/conda/lib/python3.8/site-packages (from monai->-r /tmp/requirements.txt (line 2)) (1.10.0a0+ecc3718)\n",
      "\n",
      "|[2021-09-11 01:01:51,418] [DEBUG] (app_packager) - Requirement already satisfied: typing_extensions in /opt/conda/lib/python3.8/site-packages (from torch>=1.5->monai->-r /tmp/requirements.txt (line 2)) (3.10.0.0)\n",
      "\n",
      "/[2021-09-11 01:01:52,512] [DEBUG] (app_packager) - Installing collected packages: numpy, pillow, networkx, monai\n",
      "\n",
      "-[2021-09-11 01:01:55,402] [DEBUG] (app_packager) - Successfully installed monai-0.6.0 networkx-2.6.3 numpy-1.21.2 pillow-8.3.2\n",
      "\n",
      "\\[2021-09-11 01:01:57,265] [DEBUG] (app_packager) - Removing intermediate container 06f64c23176a\n",
      "\n",
      "|[2021-09-11 01:01:57,265] [DEBUG] (app_packager) -  ---> dbc10de400e0\n",
      "\n",
      "/[2021-09-11 01:01:57,265] [DEBUG] (app_packager) - Step 28/34 : COPY --chown=monai:monai ./monai-deploy-app-sdk /home/monai/.local/lib/python3.8/site-packages/monai/deploy/\n",
      "\n",
      "-[2021-09-11 01:01:57,405] [DEBUG] (app_packager) -  ---> 1949534a0cc9\n",
      "\n",
      "\\[2021-09-11 01:01:57,405] [DEBUG] (app_packager) - Step 29/34 : COPY --chown=monai:monai ./map/app.json /etc/monai/\n",
      "\n",
      "|[2021-09-11 01:01:57,495] [DEBUG] (app_packager) -  ---> 9f3f5c398980\n",
      "\n",
      "/[2021-09-11 01:01:57,495] [DEBUG] (app_packager) - Step 30/34 : COPY --chown=monai:monai ./map/pkg.json /etc/monai/\n",
      "\n",
      "-[2021-09-11 01:01:57,586] [DEBUG] (app_packager) -  ---> a42ac0609526\n",
      "\n",
      "\\[2021-09-11 01:01:57,587] [DEBUG] (app_packager) - Step 31/34 : COPY --chown=monai:monai ./app /opt/monai/app\n",
      "\n",
      "|[2021-09-11 01:01:57,677] [DEBUG] (app_packager) -  ---> 65951b7992a2\n",
      "\n",
      "/[2021-09-11 01:01:57,677] [DEBUG] (app_packager) - Step 32/34 : RUN python -m compileall -q -j 0 /home/monai/.local/lib/python3.8/site-packages/monai /opt/monai/app\n",
      "\n",
      "-[2021-09-11 01:01:57,703] [DEBUG] (app_packager) -  ---> Running in d9c98d7d2b14\n",
      "\n",
      "\\[2021-09-11 01:01:58,799] [DEBUG] (app_packager) - Removing intermediate container d9c98d7d2b14\n",
      "\n",
      "|[2021-09-11 01:01:58,800] [DEBUG] (app_packager) -  ---> 23754382e384\n",
      "\n",
      "/[2021-09-11 01:01:58,800] [DEBUG] (app_packager) - Step 33/34 : WORKDIR /var/monai\n",
      "\n",
      "-[2021-09-11 01:01:58,829] [DEBUG] (app_packager) -  ---> Running in b08d97161232\n",
      "\n",
      "\\[2021-09-11 01:01:58,896] [DEBUG] (app_packager) - Removing intermediate container b08d97161232\n",
      "\n",
      "|[2021-09-11 01:01:58,896] [DEBUG] (app_packager) -  ---> 080ae1c41373\n",
      "\n",
      "/[2021-09-11 01:01:58,897] [DEBUG] (app_packager) - Step 34/34 : ENTRYPOINT [ \"/opt/monai/executor/monai-exec\" ]\n",
      "\n",
      "-[2021-09-11 01:01:58,927] [DEBUG] (app_packager) -  ---> Running in 3db35291fe75\n",
      "\n",
      "\\[2021-09-11 01:01:58,988] [DEBUG] (app_packager) - Removing intermediate container 3db35291fe75\n",
      "\n",
      "|[2021-09-11 01:01:58,988] [DEBUG] (app_packager) -  ---> cdfa11aac8ff\n",
      "\n",
      "/[2021-09-11 01:01:58,991] [DEBUG] (app_packager) - Successfully built cdfa11aac8ff\n",
      "\n",
      "-[2021-09-11 01:01:58,997] [DEBUG] (app_packager) - Successfully tagged mednist_app:latest\n",
      "\n",
      "\\[2021-09-11 01:01:58,999] [DEBUG] (app_packager) - \n",
      "\bSuccessfully built mednist_app:latest\n"
     ]
    }
   ],
   "source": [
    "!monai-deploy package mednist_classifier_monaideploy.py --tag mednist_app:latest --model classifier.zip -l DEBUG"
   ]
  },
  {
   "cell_type": "code",
   "execution_count": 16,
   "metadata": {},
   "outputs": [
    {
     "name": "stdout",
     "output_type": "stream",
     "text": [
      "mednist_app                                                             latest                                   cdfa11aac8ff        2 seconds ago       15.2GB\r\n"
     ]
    }
   ],
   "source": [
    "!docker image ls | grep mednist_app"
   ]
  },
  {
   "cell_type": "markdown",
   "metadata": {},
   "source": [
    "### Executing packaged app locally"
   ]
  },
  {
   "cell_type": "code",
   "execution_count": 17,
   "metadata": {},
   "outputs": [
    {
     "name": "stdout",
     "output_type": "stream",
     "text": [
      "Checking dependencies...\n",
      "--> Verifying if \"docker\" is installed...\n",
      "\n",
      "--> Verifying if \"mednist_app:latest\" is available...\n",
      "\n",
      "Checking for MAP \"mednist_app:latest\" locally\n",
      "\"mednist_app:latest\" found.\n",
      "\n",
      "Reading MONAI App Package manifest...\n",
      " > export '/var/run/monai/export/' detected\n",
      "\u001b[34mGoing to initiate execution of operator LoadPILOperator\u001b[39m\n",
      "\u001b[32mExecuting operator LoadPILOperator \u001b[33m(Process ID: 1, Operator ID: fea0dd89-0869-43cc-b4bc-af3bb11778d3)\u001b[39m\n",
      "\u001b[34mDone performing execution of operator LoadPILOperator\n",
      "\u001b[39m\n",
      "\u001b[34mGoing to initiate execution of operator MedNISTClassifierOperator\u001b[39m\n",
      "\u001b[32mExecuting operator MedNISTClassifierOperator \u001b[33m(Process ID: 1, Operator ID: 5ef16659-20bc-4a14-8011-021c1fca852c)\u001b[39m\n",
      "AbdomenCT\n",
      "\u001b[34mDone performing execution of operator MedNISTClassifierOperator\n",
      "\u001b[39m\n"
     ]
    }
   ],
   "source": [
    "!monai-deploy run mednist_app:latest {image_files[0][0]} output"
   ]
  },
  {
   "cell_type": "code",
   "execution_count": 18,
   "metadata": {},
   "outputs": [
    {
     "name": "stdout",
     "output_type": "stream",
     "text": [
      "\"AbdomenCT\""
     ]
    }
   ],
   "source": [
    "!cat output/output.json"
   ]
  },
  {
   "cell_type": "markdown",
   "metadata": {},
   "source": [
    "**Note**: Please execute the following script once the exercise is done."
   ]
  },
  {
   "cell_type": "code",
   "execution_count": 19,
   "metadata": {},
   "outputs": [],
   "source": [
    "# Remove data files which is in the temporary folder\n",
    "if directory is None:\n",
    "    shutil.rmtree(root_dir)"
   ]
  }
 ],
 "metadata": {
  "kernelspec": {
   "display_name": "Python 3",
   "language": "python",
   "name": "python3"
  },
  "language_info": {
   "codemirror_mode": {
    "name": "ipython",
    "version": 3
   },
   "file_extension": ".py",
   "mimetype": "text/x-python",
   "name": "python",
   "nbconvert_exporter": "python",
   "pygments_lexer": "ipython3",
   "version": "3.6.13"
  }
 },
 "nbformat": 4,
 "nbformat_minor": 4
}
