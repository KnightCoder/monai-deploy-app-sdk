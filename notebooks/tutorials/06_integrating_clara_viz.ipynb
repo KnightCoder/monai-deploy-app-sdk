{
 "cells": [
  {
   "cell_type": "code",
   "execution_count": 1,
   "id": "f6dca4ca",
   "metadata": {},
   "outputs": [],
   "source": [
    "\n",
    "from monai.transforms import LoadImage, Resize"
   ]
  },
  {
   "cell_type": "markdown",
   "id": "5fc333ce",
   "metadata": {},
   "source": [
    "## Load a nifti image"
   ]
  },
  {
   "cell_type": "code",
   "execution_count": 2,
   "id": "285d1a4d",
   "metadata": {},
   "outputs": [
    {
     "name": "stdout",
     "output_type": "stream",
     "text": [
      "<class 'numpy.ndarray'> (197, 233, 189)\n"
     ]
    }
   ],
   "source": [
    "filename='./temp/mni_icbm152_csf_tal_nlin_sym_09a.nii'\n",
    "image = LoadImage(image_only=True)(filename)\n",
    "print(type(image), image.shape)"
   ]
  },
  {
   "cell_type": "markdown",
   "id": "db63360c",
   "metadata": {},
   "source": [
    "## Import Clara Viz Libraries"
   ]
  },
  {
   "cell_type": "code",
   "execution_count": 5,
   "id": "cf52da5c",
   "metadata": {},
   "outputs": [
    {
     "data": {
      "application/vnd.jupyter.widget-view+json": {
       "model_id": "27635d7ca40e4e779e92a03263e6f93c",
       "version_major": 2,
       "version_minor": 0
      },
      "text/plain": [
       "Widget()"
      ]
     },
     "metadata": {},
     "output_type": "display_data"
    }
   ],
   "source": [
    "from clara.viz.widgets import Widget\n",
    "from PIL import Image\n",
    "from clara.viz.core import Renderer\n",
    "import numpy as np \n",
    "import clara.viz.core \n",
    "\n",
    "renderer = Renderer(image)\n",
    "# ouput = renderer.render_image(1024, 768, image_type = clara.viz.core.RAW_RGB_U8_DEPTH_U8)\n",
    "#rgb_data = np.asarray(image)[:, :, :12]\n",
    "display(Widget(Renderer(rgb_data)))\n"
   ]
  },
  {
   "cell_type": "code",
   "execution_count": null,
   "id": "94505258",
   "metadata": {},
   "outputs": [],
   "source": []
  }
 ],
 "metadata": {
  "kernelspec": {
   "display_name": "Python 3 (ipykernel)",
   "language": "python",
   "name": "python3"
  },
  "language_info": {
   "codemirror_mode": {
    "name": "ipython",
    "version": 3
   },
   "file_extension": ".py",
   "mimetype": "text/x-python",
   "name": "python",
   "nbconvert_exporter": "python",
   "pygments_lexer": "ipython3",
   "version": "3.9.7"
  }
 },
 "nbformat": 4,
 "nbformat_minor": 5
}
