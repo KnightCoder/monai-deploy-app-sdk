{
 "cells": [
  {
   "cell_type": "markdown",
   "source": [
    "# Creating a Segmentation App with MONAI Deploy App SDK\n",
    "\n",
    "This tutorial shows how to create an organ segmentation application for a PyTorch model that has been trained with MONAI.\n",
    "\n",
    "Deploying AI models requires the integration with clinical imaging network, even if in a for-research-use setting. This means that the AI deploy application will need to support standards-based imaging protocols, and specifically for Radiological imaging, DICOM protocol.\n",
    "\n",
    "Typically, DICOM network communication, either in DICOM TCP/IP network protocol or DICOMWeb, would be handled by DICOM devices or services, e.g. MONAI Deploy Informatics Gateway, so the deploy application itself would only need to use DICOM Part 10 files as input and save the AI result in DICOM Part10 file(s). For segmentation use cases, the DICOM instance file could be a DICOM Segmentation object or a DICOM RT Structure Set, and for classification, DICOM Structure Report and/or DICOM Encapsulated PDF.\n",
    "\n",
    "During model training, input and label images are typically in non-DICOM volumetric image format, e.g., NIfTI and PNG, converted from a specific DICOM study series. Furthermore, the voxel spacings most likely have been re-sampled to be uniform for all images. When integrated with imaging networks and receiving DICOM instances from modalities and Picture Archiving and Communications System, PACS, an AI deploy application may have to deal with a whole DICOM study with multiple series, whose images' spacing may not be the same as expected by the trained model. To address these cases consistently and efficiently, MONAI Deploy Application SDK provides classes, called operators, to parse DICOM studies, select specific series with application defined rules, and convert the selected DICOM series into domain specific image format along with meta-data representing the pertinent DICOM attributes.\n",
    "\n",
    "In the following sections, we will demonstrate how to create an MONAI Deploy application package using the MONAI Deploy App SDK.\n",
    "\n",
    ":::{note}\n",
    "For local testing, if there is a lack of DICOM Part 10 files, one can use open source programs, e.g. 3D Slicer, to convert NIfTI to DICOM files.\n",
    "\n",
    "It is important that the DICOM files are present in the folder `dcm`, and the trained Torch Script model is at `model/spleen_model.ts`\n",
    ":::\n",
    "\n",
    "## Creating Operators and connecting them in Application class\n",
    "\n",
    "We will implement an application that consists of five Operators:\n",
    "\n",
    "- **DICOMDataLoaderOperator**:\n",
    "    - **Input(dicom_files)**: a folder path ([`DataPath`](/modules/_autosummary/monai.deploy.core.domain.DataPath))\n",
    "    - **Output(dicom_study_list)**: a list of DICOM studies in memory (List[[`DICOMStudy`](/modules/_autosummary/monai.deploy.core.domain.DICOMStudy)])\n",
    "- **DICOMSeriesSelectorOperator**:\n",
    "    - **Input(dicom_study_list)**: a list of DICOM studies in memory (List[[`DICOMStudy`](/modules/_autosummary/monai.deploy.core.domain.DICOMStudy)])\n",
    "    - **Input(selection_rules)**: a selection rule (Dict)\n",
    "    - **Output(dicom_series)**: a DICOM series object in memory ([`DICOMSeries`](/modules/_autosummary/monai.deploy.core.domain.DICOMSeries))\n",
    "- **DICOMSeriesToVolumeOperator**:\n",
    "    - **Input(dicom_series)**: a DICOM series object in memory ([`DICOMSeries`](/modules/_autosummary/monai.deploy.core.domain.DICOMSeries))\n",
    "    - **Output(image)**: an image object in memory ([`Image`](/modules/_autosummary/monai.deploy.core.domain.Image))\n",
    "- **SpleenSegOperator**:\n",
    "    - **Input(image)**: an image object in memory ([`Image`](/modules/_autosummary/monai.deploy.core.domain.Image))\n",
    "    - **Output(seg_image)**: an image object in memory ([`Image`](/modules/_autosummary/monai.deploy.core.domain.Image))\n",
    "- **DICOMSegmentationWriterOperator**:\n",
    "    - **Input(seg_image)**: a segmentation image object in memory ([`Image`](/modules/_autosummary/monai.deploy.core.domain.Image))\n",
    "    - **Input(dicom_series)**: a DICOM series object in memory ([`DICOMSeries`](/modules/_autosummary/monai.deploy.core.domain.DICOMSeries))\n",
    "    - **Output(dicom_seg_instance)**: a file path ([`DataPath`](/modules/_autosummary/monai.deploy.core.domain.DataPath))\n",
    "\n",
    "\n",
    ":::{note}\n",
    "The `DICOMSegmentationWriterOperator` needs both the segmentation image as well as the original DICOM series meta-data in order to use the patient demographics and the DICOM Study level attributes.\n",
    ":::\n",
    "\n",
    "The workflow of the application would look like this.\n",
    "\n",
    "```{mermaid}\n",
    "%%{init: {\"theme\": \"base\", \"themeVariables\": { \"fontSize\": \"16px\"}} }%%\n",
    "\n",
    "classDiagram\n",
    "    direction TB\n",
    "\n",
    "    DICOMDataLoaderOperator --|> DICOMSeriesSelectorOperator : dicom_study_list...dicom_study_list\n",
    "    DICOMSeriesSelectorOperator --|> DICOMSeriesToVolumeOperator : dicom_series...dicom_series\n",
    "    DICOMSeriesToVolumeOperator --|> SpleenSegOperator : image...image\n",
    "    DICOMSeriesSelectorOperator --|> DICOMSegmentationWriterOperator : dicom_series...dicom_series\n",
    "    SpleenSegOperator --|> DICOMSegmentationWriterOperator : seg_image...seg_image\n",
    "\n",
    "\n",
    "    class DICOMDataLoaderOperator {\n",
    "        <in>dicom_files : DISK\n",
    "        dicom_study_list(out) IN_MEMORY\n",
    "    }\n",
    "    class DICOMSeriesSelectorOperator {\n",
    "        <in>dicom_study_list : IN_MEMORY\n",
    "        <in>selection_rules : IN_MEMORY\n",
    "        dicom_series(out) IN_MEMORY\n",
    "    }\n",
    "    class DICOMSeriesToVolumeOperator {\n",
    "        <in>dicom_series : IN_MEMORY\n",
    "        image(out) IN_MEMORY\n",
    "    }\n",
    "    class SpleenSegOperator {\n",
    "        <in>image : IN_MEMORY\n",
    "        seg_image(out) IN_MEMORY\n",
    "    }\n",
    "    class DICOMSegmentationWriterOperator {\n",
    "        <in>seg_image : IN_MEMORY\n",
    "        <in>dicom_series : IN_MEMORY\n",
    "        dicom_seg_instance(out) DISK\n",
    "    }\n",
    "```\n",
    "\n",
    "### Setup environment\n"
   ],
   "metadata": {}
  },
  {
   "cell_type": "code",
   "execution_count": 85,
   "source": [
    "# Install MONAI and other necessary image processing packages for the application\n",
    "!python -c \"import monai\" || pip install -q \"monai\"\n",
    "!python -c \"import torch\" || pip install -q \"torch>=1.5\"\n",
    "!python -c \"import numpy\" || pip install -q \"numpy>=1.17\"\n",
    "!python -c \"import nibabel\" || pip install -q \"nibabel>=3.2.1\"\n",
    "!python -c \"import pydicom\" || pip install -q \"pydicom>=1.4.2\"\n",
    "!python -c \"import SimpleITK\" || pip install -q \"SimpleITK>=2.0.0\"\n",
    "!python -c \"import typeguard\" || pip install -q \"typeguard>=2.12.1\"\n",
    "\n",
    "# Install MONAI Deploy App SDK package\n",
    "!python -c \"import monai.deploy\" || pip install -q \"monai-deploy-app-sdk\""
   ],
   "outputs": [],
   "metadata": {}
  },
  {
   "cell_type": "markdown",
   "source": [
    "### Setup imports\n",
    "\n",
    "Let's import necessary classes/decorators to define Application and Operator."
   ],
   "metadata": {}
  },
  {
   "cell_type": "code",
   "execution_count": 86,
   "source": [
    "import logging\n",
    "from os import path\n",
    "\n",
    "from numpy import uint8\n",
    "\n",
    "import monai.deploy.core as md\n",
    "from monai.deploy.core import ExecutionContext, Image, InputContext, IOType, Operator, OutputContext\n",
    "from monai.deploy.operators.monai_seg_inference_operator import InMemImageReader, MonaiSegInferenceOperator\n",
    "from monai.transforms import (\n",
    "    Activationsd,\n",
    "    AsDiscreted,\n",
    "    Compose,\n",
    "    CropForegroundd,\n",
    "    EnsureChannelFirstd,\n",
    "    Invertd,\n",
    "    LoadImaged,\n",
    "    SaveImaged,\n",
    "    ScaleIntensityRanged,\n",
    "    Spacingd,\n",
    "    ToTensord,\n",
    ")\n",
    "\n",
    "from monai.deploy.core import Application, resource\n",
    "from monai.deploy.operators.dicom_data_loader_operator import DICOMDataLoaderOperator\n",
    "from monai.deploy.operators.dicom_seg_writer_operator import DICOMSegmentationWriterOperator\n",
    "from monai.deploy.operators.dicom_series_selector_operator import DICOMSeriesSelectorOperator\n",
    "from monai.deploy.operators.dicom_series_to_volume_operator import DICOMSeriesToVolumeOperator"
   ],
   "outputs": [],
   "metadata": {}
  },
  {
   "cell_type": "markdown",
   "source": [
    "### Creating Model Specific Inference Operator classes\n",
    "\n",
    "Each Operator class inherits [Operator](/modules/_autosummary/monai.deploy.core.Operator) class and input/output properties are specified by using [@input](/modules/_autosummary/monai.deploy.core.input)/[@output](/modules/_autosummary/monai.deploy.core.output) decorators.\n",
    "\n",
    "Business logic would be implemented in the <a href=\"/modules/_autosummary/monai.deploy.core.Operator.html#monai.deploy.core.Operator.compute\">compute()</a> method.\n",
    "\n",
    "The App SDK provide a `MonaiSegInferenceOperator` class to perform segmentation prediction with a Torch Script model. For consistency, this class uses MONAI dictionary based transforms, as `Compose` object, for pre and post transforms. The model specific inference operator will then only need to create the pre and post transform `Compose` based on what have been used in the model training and validation. Note that for deploy application, `ignite` is not needed nor supported.\n",
    "\n",
    "#### SpleenSegOperator\n",
    "\n",
    "The `SpleenSegOperator` gets as input an in-memory [Image](/modules/_autosummary/monai.deploy.core.domain.Image) object that has been converted from a DICOM CT series by the preceding `DICOMSeriesToVolumeOperator`, and as output in-memory segmentation [Image](/modules/_autosummary/monai.deploy.core.domain.Image) object.\n",
    "\n",
    "The `pre_process` function creates the pre-tranforms `Compose` object. For `LoadImage`, a specialized `InMemImageReader`, derived from MONAI `ImageReader`, is used to convert the in-memory pixel data and return the `numpy` array as well as the meta-data. Also, the DICOM input pixel spacings are often not the same as expected by the model, so the `Spacingd` transform must be used to re-sample the image with the expected spacing.\n",
    "\n",
    "The `post_process` function creates the post-transform `Compose` object. The `SaveImageD` transform class is used to save the segmentation mask as NIfTI image file, which is optional as the in-memory mask image will be passed down to the DICOM Segmentation writer for creating an DICOM Segmentation instance. The `Invertd` must also be used to revert the segmentation image's orientation and spacing to be the same as the input.\n",
    "\n",
    "When the `MonaiSegInferenceOperator` object is created, the `ROI` size is specified, as well as the transform `Compose` objects. Furthermore, the dataset image key names are set accordingly.\n",
    "\n",
    "Loading of the model and performing the prediction are encapsulated in the `MonaiSegInferenceOperator` and other SDK classes. Once inference is completed, the segmentation [Image](/modules/_autosummary/monai.deploy.core.domain.Image) object is created and set to the output (<a href=\"/modules/_autosummary/monai.deploy.core.OutputContext.html#monai.deploy.core.OutputContext.set\">op_output.set(value, label)</a>), by the `MonaiSegInferenceOperator`."
   ],
   "metadata": {}
  },
  {
   "cell_type": "code",
   "execution_count": 87,
   "source": [
    "@md.input(\"image\", Image, IOType.IN_MEMORY)\n",
    "@md.output(\"seg_image\", Image, IOType.IN_MEMORY)\n",
    "@md.env(pip_packages=[\"monai==0.6.0\", \"torch>=1.5\", \"numpy>=1.17\", \"nibabel\"])\n",
    "class SpleenSegOperator(Operator):\n",
    "    \"\"\"Performs Spleen segmentation with a 3D image converted from a DICOM CT series.\n",
    "    \"\"\"\n",
    "\n",
    "    def __init__(self):\n",
    "\n",
    "        self.logger = logging.getLogger(\"{}.{}\".format(__name__, type(self).__name__))\n",
    "        super().__init__()\n",
    "        self._input_dataset_key = \"image\"\n",
    "        self._pred_dataset_key = \"pred\"\n",
    "\n",
    "    def compute(self, op_input: InputContext, op_output: OutputContext, context: ExecutionContext):\n",
    "\n",
    "        input_image = op_input.get(\"image\")\n",
    "        if not input_image:\n",
    "            raise ValueError(\"Input image is not found.\")\n",
    "\n",
    "        output_path = context.output.get().path\n",
    "\n",
    "        # This operator gets an in-memory Image object, so a specialized ImageReader is needed.\n",
    "        _reader = InMemImageReader(input_image)\n",
    "        pre_transforms = self.pre_process(_reader)\n",
    "        post_transforms = self.post_process(pre_transforms, path.join(output_path, \"prediction_output\"))\n",
    "\n",
    "        # Delegates inference and saving output to the built-in operator.\n",
    "        infer_operator = MonaiSegInferenceOperator(\n",
    "            (\n",
    "                160,\n",
    "                160,\n",
    "                160,\n",
    "            ),\n",
    "            pre_transforms,\n",
    "            post_transforms,\n",
    "        )\n",
    "\n",
    "        # Setting the keys used in the dictironary based transforms may change.\n",
    "        infer_operator.input_dataset_key = self._input_dataset_key\n",
    "        infer_operator.pred_dataset_key = self._pred_dataset_key\n",
    "\n",
    "        # Now let the built-in operator handles the work with the I/O spec and execution context.\n",
    "        infer_operator.compute(op_input, op_output, context)\n",
    "\n",
    "    def pre_process(self, img_reader) -> Compose:\n",
    "        \"\"\"Composes transforms for preprocessing input before predicting on a model.\"\"\"\n",
    "\n",
    "        my_key = self._input_dataset_key\n",
    "        return Compose(\n",
    "            [\n",
    "                LoadImaged(keys=my_key, reader=img_reader),\n",
    "                EnsureChannelFirstd(keys=my_key),\n",
    "                Spacingd(keys=my_key, pixdim=[1.0, 1.0, 1.0], mode=[\"blinear\"], align_corners=True),\n",
    "                ScaleIntensityRanged(keys=my_key, a_min=-57, a_max=164, b_min=0.0, b_max=1.0, clip=True),\n",
    "                CropForegroundd(keys=my_key, source_key=my_key),\n",
    "                ToTensord(keys=my_key),\n",
    "            ]\n",
    "        )\n",
    "\n",
    "    def post_process(self, pre_transforms: Compose, out_dir: str = \"./prediction_output\") -> Compose:\n",
    "        \"\"\"Composes transforms for postprocessing the prediction results.\"\"\"\n",
    "\n",
    "        pred_key = self._pred_dataset_key\n",
    "        return Compose(\n",
    "            [\n",
    "                Activationsd(keys=pred_key, softmax=True),\n",
    "                AsDiscreted(keys=pred_key, argmax=True),\n",
    "                Invertd(\n",
    "                    keys=pred_key, transform=pre_transforms, orig_keys=self._input_dataset_key, nearest_interp=True\n",
    "                ),\n",
    "                SaveImaged(keys=pred_key, output_dir=out_dir, output_postfix=\"seg\", output_dtype=uint8, resample=False),\n",
    "            ]\n",
    "        )\n"
   ],
   "outputs": [],
   "metadata": {}
  },
  {
   "cell_type": "markdown",
   "source": [
    "### Creating Application class\n",
    "\n",
    "Our application class would look like below.\n",
    "\n",
    "It defines `App` class, inheriting [Application](/modules/_autosummary/monai.deploy.core.Application) class.\n",
    "\n",
    "The requirements (resource and package dependency) for the App can be specified by using [@resource](/modules/_autosummary/monai.deploy.core.resource) and [@env](/modules/_autosummary/monai.deploy.core.env) decorators.\n",
    "\n",
    "The base class method, `compose`, is overridden. Objects required for DICOM parsing, series selection (selecting the first series for the current release), pixel data conversion to volume image, and segmentation instance creation are created, so is the model specific `SpleenSegOperator`. The execution pipeline, as a Directed Acyclic Graph, is created by connecting these objects through <a href=\"/modules/_autosummary/monai.deploy.core.Application.html#monai.deploy.core.Application.add_flow\">self.add_flow()</a>."
   ],
   "metadata": {}
  },
  {
   "cell_type": "code",
   "execution_count": 88,
   "source": [
    "@resource(cpu=1, gpu=1, memory=\"7Gi\")\n",
    "class AISpleenSegApp(Application):\n",
    "    def __init__(self, *args, **kwargs):\n",
    "        super().__init__(*args, **kwargs)\n",
    "\n",
    "    def compose(self):\n",
    "\n",
    "        study_loader_op = DICOMDataLoaderOperator()\n",
    "        series_selector_op = DICOMSeriesSelectorOperator()\n",
    "        series_to_vol_op = DICOMSeriesToVolumeOperator()\n",
    "        # Creates DICOM Seg writer with segment label name in a string list\n",
    "        dicom_seg_writer = DICOMSegmentationWriterOperator(seg_labels=[\"Spleen\"])\n",
    "\n",
    "        # Creates the model specific segmentation operator\n",
    "        spleen_seg_op = SpleenSegOperator()\n",
    "\n",
    "        # Creates the DAG by linking the operators\n",
    "        self.add_flow(study_loader_op, series_selector_op, {\"dicom_study_list\": \"dicom_study_list\"})\n",
    "        self.add_flow(series_selector_op, series_to_vol_op, {\"dicom_series\": \"dicom_series\"})\n",
    "        self.add_flow(series_to_vol_op, spleen_seg_op, {\"image\": \"image\"})\n",
    "\n",
    "        self.add_flow(series_selector_op, dicom_seg_writer, {\"dicom_series\": \"dicom_series\"})\n",
    "        self.add_flow(spleen_seg_op, dicom_seg_writer, {\"seg_image\": \"seg_image\"})\n"
   ],
   "outputs": [],
   "metadata": {}
  },
  {
   "cell_type": "markdown",
   "source": [
    "## Executing app locally\n",
    "\n",
    "We can execute the app in the Jupyter notebook. Note that the DICOM files of the CT Abdomen series must be present in the `DICOM_folder` and the Torch Script model at `model_file`. Please use the actual path in your environment.\n",
    "\n",
    "`app = AISpleenSegApp()`\n",
    "\n",
    "`app.run(input=\"dcm\", model=\"model/spleen_model.ts\", output=\"output\")`"
   ],
   "metadata": {}
  },
  {
   "cell_type": "markdown",
   "source": [
    "Once the application is verified inside Jupyter notebook, we can write the above Python code into Python files in an application folder.\n",
    "\n",
    "The application folder structure would look like below:\n",
    "\n",
    "```bash\n",
    "my_app\n",
    "├── __main__.py\n",
    "├── app.py\n",
    "└── spleen_seg_operator.py\n",
    "```\n",
    "\n",
    ":::{note}\n",
    "We can create a single application Python file (such as `spleen_app.py`) that includes the content of the files, instead of creating multiple files.\n",
    "You will see such example in <a href=\"/notebooks/tutorials/02_mednist_app.html#executing-app-locally\">MedNist Classifier Tutorial</a>.\n",
    ":::"
   ],
   "metadata": {}
  },
  {
   "cell_type": "code",
   "execution_count": 89,
   "source": [
    "# Create an application folder\n",
    "!mkdir -p my_app"
   ],
   "outputs": [],
   "metadata": {}
  },
  {
   "cell_type": "markdown",
   "source": [
    "### spleen_seg_operator.py"
   ],
   "metadata": {}
  },
  {
   "cell_type": "code",
   "execution_count": 90,
   "source": [
    "%%writefile my_app/spleen_seg_operator.py\n",
    "import logging\n",
    "from os import path\n",
    "\n",
    "from numpy import uint8\n",
    "\n",
    "import monai.deploy.core as md\n",
    "from monai.deploy.core import ExecutionContext, Image, InputContext, IOType, Operator, OutputContext\n",
    "from monai.deploy.operators.monai_seg_inference_operator import InMemImageReader, MonaiSegInferenceOperator\n",
    "from monai.transforms import (\n",
    "    Activationsd,\n",
    "    AsDiscreted,\n",
    "    Compose,\n",
    "    CropForegroundd,\n",
    "    EnsureChannelFirstd,\n",
    "    Invertd,\n",
    "    LoadImaged,\n",
    "    SaveImaged,\n",
    "    ScaleIntensityRanged,\n",
    "    Spacingd,\n",
    "    ToTensord,\n",
    ")\n",
    "\n",
    "\n",
    "@md.input(\"image\", Image, IOType.IN_MEMORY)\n",
    "@md.output(\"seg_image\", Image, IOType.IN_MEMORY)\n",
    "@md.env(pip_packages=[\"monai==0.6.0\", \"torch>=1.5\", \"numpy>=1.17\", \"nibabel\", \"typeguard\"])\n",
    "class SpleenSegOperator(Operator):\n",
    "    \"\"\"Performs Spleen segmentation with a 3D image converted from a DICOM CT series.\n",
    "    \"\"\"\n",
    "\n",
    "    def __init__(self):\n",
    "\n",
    "        self.logger = logging.getLogger(\"{}.{}\".format(__name__, type(self).__name__))\n",
    "        super().__init__()\n",
    "        self._input_dataset_key = \"image\"\n",
    "        self._pred_dataset_key = \"pred\"\n",
    "\n",
    "    def compute(self, op_input: InputContext, op_output: OutputContext, context: ExecutionContext):\n",
    "\n",
    "        input_image = op_input.get(\"image\")\n",
    "        if not input_image:\n",
    "            raise ValueError(\"Input image is not found.\")\n",
    "\n",
    "        output_path = context.output.get().path\n",
    "\n",
    "        # This operator gets an in-memory Image object, so a specialized ImageReader is needed.\n",
    "        _reader = InMemImageReader(input_image)\n",
    "        pre_transforms = self.pre_process(_reader)\n",
    "        post_transforms = self.post_process(pre_transforms, path.join(output_path, \"prediction_output\"))\n",
    "\n",
    "        # Delegates inference and saving output to the built-in operator.\n",
    "        infer_operator = MonaiSegInferenceOperator(\n",
    "            (\n",
    "                160,\n",
    "                160,\n",
    "                160,\n",
    "            ),\n",
    "            pre_transforms,\n",
    "            post_transforms,\n",
    "        )\n",
    "\n",
    "        # Setting the keys used in the dictironary based transforms may change.\n",
    "        infer_operator.input_dataset_key = self._input_dataset_key\n",
    "        infer_operator.pred_dataset_key = self._pred_dataset_key\n",
    "\n",
    "        # Now let the built-in operator handles the work with the I/O spec and execution context.\n",
    "        infer_operator.compute(op_input, op_output, context)\n",
    "\n",
    "    def pre_process(self, img_reader) -> Compose:\n",
    "        \"\"\"Composes transforms for preprocessing input before predicting on a model.\"\"\"\n",
    "\n",
    "        my_key = self._input_dataset_key\n",
    "        return Compose(\n",
    "            [\n",
    "                LoadImaged(keys=my_key, reader=img_reader),\n",
    "                EnsureChannelFirstd(keys=my_key),\n",
    "                Spacingd(keys=my_key, pixdim=[1.0, 1.0, 1.0], mode=[\"blinear\"], align_corners=True),\n",
    "                ScaleIntensityRanged(keys=my_key, a_min=-57, a_max=164, b_min=0.0, b_max=1.0, clip=True),\n",
    "                CropForegroundd(keys=my_key, source_key=my_key),\n",
    "                ToTensord(keys=my_key),\n",
    "            ]\n",
    "        )\n",
    "\n",
    "    def post_process(self, pre_transforms: Compose, out_dir: str = \"./prediction_output\") -> Compose:\n",
    "        \"\"\"Composes transforms for postprocessing the prediction results.\"\"\"\n",
    "\n",
    "        pred_key = self._pred_dataset_key\n",
    "        return Compose(\n",
    "            [\n",
    "                Activationsd(keys=pred_key, softmax=True),\n",
    "                AsDiscreted(keys=pred_key, argmax=True),\n",
    "                Invertd(\n",
    "                    keys=pred_key, transform=pre_transforms, orig_keys=self._input_dataset_key, nearest_interp=True\n",
    "                ),\n",
    "                SaveImaged(keys=pred_key, output_dir=out_dir, output_postfix=\"seg\", output_dtype=uint8, resample=False),\n",
    "            ]\n",
    "        )\n"
   ],
   "outputs": [
    {
     "output_type": "stream",
     "name": "stdout",
     "text": [
      "Overwriting my_app/spleen_seg_operator.py\n"
     ]
    }
   ],
   "metadata": {}
  },
  {
   "cell_type": "markdown",
   "source": [
    "### app.py"
   ],
   "metadata": {}
  },
  {
   "cell_type": "code",
   "execution_count": 91,
   "source": [
    "%%writefile my_app/app.py\n",
    "import logging\n",
    "\n",
    "from spleen_seg_operator import SpleenSegOperator\n",
    "\n",
    "from monai.deploy.core import Application, resource\n",
    "from monai.deploy.operators.dicom_data_loader_operator import DICOMDataLoaderOperator\n",
    "from monai.deploy.operators.dicom_seg_writer_operator import DICOMSegmentationWriterOperator\n",
    "from monai.deploy.operators.dicom_series_selector_operator import DICOMSeriesSelectorOperator\n",
    "from monai.deploy.operators.dicom_series_to_volume_operator import DICOMSeriesToVolumeOperator\n",
    "\n",
    "@resource(cpu=1, gpu=1, memory=\"7Gi\")\n",
    "class AISpleenSegApp(Application):\n",
    "    def __init__(self, *args, **kwargs):\n",
    "        super().__init__(*args, **kwargs)\n",
    "\n",
    "    def compose(self):\n",
    "\n",
    "        study_loader_op = DICOMDataLoaderOperator()\n",
    "        series_selector_op = DICOMSeriesSelectorOperator()\n",
    "        series_to_vol_op = DICOMSeriesToVolumeOperator()\n",
    "        # Creates DICOM Seg writer with segment label name in a string list\n",
    "        dicom_seg_writer = DICOMSegmentationWriterOperator(seg_labels=[\"Spleen\"])\n",
    "        # Creates the model specific segmentation operator\n",
    "        spleen_seg_op = SpleenSegOperator()\n",
    "\n",
    "        # Creates the DAG by link the operators\n",
    "        self.add_flow(study_loader_op, series_selector_op, {\"dicom_study_list\": \"dicom_study_list\"})\n",
    "        self.add_flow(series_selector_op, series_to_vol_op, {\"dicom_series\": \"dicom_series\"})\n",
    "        self.add_flow(series_to_vol_op, spleen_seg_op, {\"image\": \"image\"})\n",
    "        self.add_flow(series_selector_op, dicom_seg_writer, {\"dicom_series\": \"dicom_series\"})\n",
    "        self.add_flow(spleen_seg_op, dicom_seg_writer, {\"seg_image\": \"seg_image\"})\n",
    "\n",
    "if __name__ == \"__main__\":\n",
    "    # Creates the app and test it standalone. When running is this mode, please note the following:\n",
    "    #     -m <model file>, for model file path\n",
    "    #     -i <DICOM folder>, for input DICOM CT series folder\n",
    "    #     -o <output folder>, for the output folder, default $PWD/output\n",
    "    # e.g.\n",
    "    #     python3 app.py -i input -m model/model.ts\n",
    "    #\n",
    "    AISpleenSegApp(do_run=True)"
   ],
   "outputs": [
    {
     "output_type": "stream",
     "name": "stdout",
     "text": [
      "Overwriting my_app/app.py\n"
     ]
    }
   ],
   "metadata": {}
  },
  {
   "cell_type": "markdown",
   "source": [
    "```python\n",
    "if __name__ == \"__main__\":\n",
    "    AISpleenSegApp(do_run=True)\n",
    "```\n",
    "\n",
    "Above lines are needed to execute the application code by using `python` interpreter.\n",
    "\n",
    "### \\_\\_main\\_\\_.py\n",
    "\n",
    "\\_\\_main\\_\\_.py is needed for <a href=\"/developing_with_sdk/packaging_app#required-arguments\">MONAI Application Packager</a> to detect main application code (`app.py`) when the application is executed with the application folder path (e.g., `python simple_imaging_app`)."
   ],
   "metadata": {}
  },
  {
   "cell_type": "code",
   "execution_count": 92,
   "source": [
    "%%writefile my_app/__main__.py\n",
    "from app import AISpleenSegApp\n",
    "\n",
    "if __name__ == \"__main__\":\n",
    "    AISpleenSegApp(do_run=True)"
   ],
   "outputs": [
    {
     "output_type": "stream",
     "name": "stdout",
     "text": [
      "Overwriting my_app/__main__.py\n"
     ]
    }
   ],
   "metadata": {}
  },
  {
   "cell_type": "code",
   "execution_count": 93,
   "source": [
    "!ls my_app"
   ],
   "outputs": [
    {
     "output_type": "stream",
     "name": "stdout",
     "text": [
      "app.py\tapp.pyc  __main__.py  __pycache__  spleen_seg_operator.py\n"
     ]
    }
   ],
   "metadata": {}
  },
  {
   "cell_type": "markdown",
   "source": [
    "In this time, let's execute the app in the command line."
   ],
   "metadata": {}
  },
  {
   "cell_type": "code",
   "execution_count": 94,
   "source": [
    "!python my_app -i dcm -m model/spleen_model.ts -o output"
   ],
   "outputs": [
    {
     "output_type": "stream",
     "name": "stdout",
     "text": [
      "\u001b[34mGoing to initiate execution of operator DICOMDataLoaderOperator\u001b[39m\n",
      "\u001b[32mExecuting operator DICOMDataLoaderOperator \u001b[33m(Process ID: 17033, Operator ID: ff94ae9f-48d7-4a28-9282-414c53d1a609)\u001b[39m\n",
      "\u001b[34mDone performing execution of operator DICOMDataLoaderOperator\n",
      "\u001b[39m\n",
      "\u001b[34mGoing to initiate execution of operator DICOMSeriesSelectorOperator\u001b[39m\n",
      "\u001b[32mExecuting operator DICOMSeriesSelectorOperator \u001b[33m(Process ID: 17033, Operator ID: 449536b0-56fb-4761-8bad-04297eb15253)\u001b[39m\n",
      "\u001b[34mDone performing execution of operator DICOMSeriesSelectorOperator\n",
      "\u001b[39m\n",
      "\u001b[34mGoing to initiate execution of operator DICOMSeriesToVolumeOperator\u001b[39m\n",
      "\u001b[32mExecuting operator DICOMSeriesToVolumeOperator \u001b[33m(Process ID: 17033, Operator ID: e982a107-7946-407b-ad34-f5fd84168d66)\u001b[39m\n",
      "\u001b[34mDone performing execution of operator DICOMSeriesToVolumeOperator\n",
      "\u001b[39m\n",
      "\u001b[34mGoing to initiate execution of operator SpleenSegOperator\u001b[39m\n",
      "\u001b[32mExecuting operator SpleenSegOperator \u001b[33m(Process ID: 17033, Operator ID: 5bf44d57-8939-474f-8352-b54b7a4b7473)\u001b[39m\n",
      "file written: /home/mqin/src/monai-app-sdk/notebooks/tutorials/output/prediction_output/Img_in_context/Img_in_context_seg.nii.gz.\n",
      "Output Seg image numpy array shaped: (515, 440, 440)\n",
      "Output Seg image pixel max value: 1\n",
      "\u001b[34mDone performing execution of operator SpleenSegOperator\n",
      "\u001b[39m\n",
      "\u001b[34mGoing to initiate execution of operator DICOMSegmentationWriterOperator\u001b[39m\n",
      "\u001b[32mExecuting operator DICOMSegmentationWriterOperator \u001b[33m(Process ID: 17033, Operator ID: fb81f7fe-2fd3-408f-a461-2afb4aa8ae44)\u001b[39m\n",
      "[2021-09-23 00:00:50,339] [INFO] (monai.deploy.operators.dicom_seg_writer_operator.DICOMSegWriter) - Number of DICOM instance datasets in the list: 515\n",
      "[2021-09-23 00:00:50,339] [INFO] (monai.deploy.operators.dicom_seg_writer_operator.DICOMSegWriter) - Number of slices in the numpy image: 515\n",
      "[2021-09-23 00:00:50,339] [INFO] (monai.deploy.operators.dicom_seg_writer_operator.DICOMSegWriter) - Labels of the segments: ['Spleen']\n",
      "[2021-09-23 00:00:52,338] [INFO] (monai.deploy.operators.dicom_seg_writer_operator.DICOMSegWriter) - Unique values in seg image: [0 1]\n",
      "[2021-09-23 00:00:54,385] [INFO] (monai.deploy.operators.dicom_seg_writer_operator.DICOMSegWriter) - Saving output file /home/mqin/src/monai-app-sdk/notebooks/tutorials/output/dicom_seg-DICOMSEG.dcm\n",
      "[2021-09-23 00:00:54,515] [INFO] (monai.deploy.operators.dicom_seg_writer_operator.DICOMSegWriter) - File saved.\n",
      "\u001b[34mDone performing execution of operator DICOMSegmentationWriterOperator\n",
      "\u001b[39m\n"
     ]
    }
   ],
   "metadata": {}
  },
  {
   "cell_type": "markdown",
   "source": [
    "Above command is same with the following command line:"
   ],
   "metadata": {}
  },
  {
   "cell_type": "code",
   "execution_count": 95,
   "source": [
    "!monai-deploy exec my_app -i dcm -m model/spleen_model.ts -o output"
   ],
   "outputs": [
    {
     "output_type": "stream",
     "name": "stdout",
     "text": [
      "\u001b[34mGoing to initiate execution of operator DICOMDataLoaderOperator\u001b[39m\n",
      "\u001b[32mExecuting operator DICOMDataLoaderOperator \u001b[33m(Process ID: 17141, Operator ID: a268fd76-5bbd-4d85-9d9f-89776403b7f1)\u001b[39m\n",
      "\u001b[34mDone performing execution of operator DICOMDataLoaderOperator\n",
      "\u001b[39m\n",
      "\u001b[34mGoing to initiate execution of operator DICOMSeriesSelectorOperator\u001b[39m\n",
      "\u001b[32mExecuting operator DICOMSeriesSelectorOperator \u001b[33m(Process ID: 17141, Operator ID: 253ff9c8-18a7-451f-a73f-80fd43df94e2)\u001b[39m\n",
      "\u001b[34mDone performing execution of operator DICOMSeriesSelectorOperator\n",
      "\u001b[39m\n",
      "\u001b[34mGoing to initiate execution of operator DICOMSeriesToVolumeOperator\u001b[39m\n",
      "\u001b[32mExecuting operator DICOMSeriesToVolumeOperator \u001b[33m(Process ID: 17141, Operator ID: e84f7fd6-c717-46a8-bcf7-4e41acb99cc5)\u001b[39m\n",
      "\u001b[34mDone performing execution of operator DICOMSeriesToVolumeOperator\n",
      "\u001b[39m\n",
      "\u001b[34mGoing to initiate execution of operator SpleenSegOperator\u001b[39m\n",
      "\u001b[32mExecuting operator SpleenSegOperator \u001b[33m(Process ID: 17141, Operator ID: 95474b01-fbf3-4721-9bb0-a232f44916c3)\u001b[39m\n",
      "file written: /home/mqin/src/monai-app-sdk/notebooks/tutorials/output/prediction_output/Img_in_context/Img_in_context_seg.nii.gz.\n",
      "Output Seg image numpy array shaped: (515, 440, 440)\n",
      "Output Seg image pixel max value: 1\n",
      "\u001b[34mDone performing execution of operator SpleenSegOperator\n",
      "\u001b[39m\n",
      "\u001b[34mGoing to initiate execution of operator DICOMSegmentationWriterOperator\u001b[39m\n",
      "\u001b[32mExecuting operator DICOMSegmentationWriterOperator \u001b[33m(Process ID: 17141, Operator ID: 543ee2cd-2e5c-45f5-92e6-75e80cbf2268)\u001b[39m\n",
      "[2021-09-23 00:01:29,900] [INFO] (monai.deploy.operators.dicom_seg_writer_operator.DICOMSegWriter) - Number of DICOM instance datasets in the list: 515\n",
      "[2021-09-23 00:01:29,900] [INFO] (monai.deploy.operators.dicom_seg_writer_operator.DICOMSegWriter) - Number of slices in the numpy image: 515\n",
      "[2021-09-23 00:01:29,900] [INFO] (monai.deploy.operators.dicom_seg_writer_operator.DICOMSegWriter) - Labels of the segments: ['Spleen']\n",
      "[2021-09-23 00:01:31,928] [INFO] (monai.deploy.operators.dicom_seg_writer_operator.DICOMSegWriter) - Unique values in seg image: [0 1]\n",
      "[2021-09-23 00:01:34,019] [INFO] (monai.deploy.operators.dicom_seg_writer_operator.DICOMSegWriter) - Saving output file /home/mqin/src/monai-app-sdk/notebooks/tutorials/output/dicom_seg-DICOMSEG.dcm\n",
      "[2021-09-23 00:01:34,158] [INFO] (monai.deploy.operators.dicom_seg_writer_operator.DICOMSegWriter) - File saved.\n",
      "\u001b[34mDone performing execution of operator DICOMSegmentationWriterOperator\n",
      "\u001b[39m\n"
     ]
    }
   ],
   "metadata": {}
  },
  {
   "cell_type": "code",
   "execution_count": 96,
   "source": [
    "!ls output"
   ],
   "outputs": [
    {
     "output_type": "stream",
     "name": "stdout",
     "text": [
      "dicom_seg-DICOMSEG.dcm\tprediction_output\n"
     ]
    }
   ],
   "metadata": {}
  },
  {
   "cell_type": "markdown",
   "source": [
    "## Packaging app"
   ],
   "metadata": {}
  },
  {
   "cell_type": "markdown",
   "source": [
    "Let's package the app with [MONAI Application Packager](/developing_with_sdk/packaging_app)."
   ],
   "metadata": {}
  },
  {
   "cell_type": "code",
   "execution_count": 97,
   "source": [
    "!monai-deploy package my_app --tag my_app:latest -m model/spleen_model.ts"
   ],
   "outputs": [
    {
     "output_type": "stream",
     "name": "stdout",
     "text": [
      "Building MONAI Application Package... Done\n",
      "[2021-09-23 00:01:47,765] [INFO] (app_packager) - Successfully built my_app:latest\n"
     ]
    }
   ],
   "metadata": {}
  },
  {
   "cell_type": "markdown",
   "source": [
    ":::{note}\n",
    "Building a MONAI Application Package (Docker image) can take time. Use `-l DEBUG` option if you want to see the progress.\n",
    ":::\n",
    "\n",
    "We can see that the Docker image is created."
   ],
   "metadata": {}
  },
  {
   "cell_type": "code",
   "execution_count": 98,
   "source": [
    "!docker image ls | grep my_app"
   ],
   "outputs": [
    {
     "output_type": "stream",
     "name": "stdout",
     "text": [
      "my_app                                                            latest                     8977e30d8f33   15 minutes ago   15.6GB\n",
      "my_app                                                            0.0.1                      8d82ae089d98   2 days ago       15.6GB\n"
     ]
    }
   ],
   "metadata": {}
  },
  {
   "cell_type": "markdown",
   "source": [
    "## Executing packaged app locally\n",
    "\n",
    "The packaged app can be run locally through [MONAI Application Runner](/developing_with_sdk/executing_packaged_app_locally)."
   ],
   "metadata": {}
  },
  {
   "cell_type": "code",
   "execution_count": 99,
   "source": [
    "# Copy DICOM files are in 'dcm' folder\n",
    "\n",
    "# Launch the app\n",
    "!monai-deploy run my_app:latest dcm output"
   ],
   "outputs": [
    {
     "output_type": "stream",
     "name": "stdout",
     "text": [
      "Checking dependencies...\n",
      "--> Verifying if \"docker\" is installed...\n",
      "\n",
      "--> Verifying if \"my_app:latest\" is available...\n",
      "\n",
      "Checking for MAP \"my_app:latest\" locally\n",
      "\"my_app:latest\" found.\n",
      "\n",
      "Reading MONAI App Package manifest...\n",
      " > export '/var/run/monai/export/' detected\n",
      "--> Verifying if \"nvidia-docker\" is installed...\n",
      "\n",
      "\u001b[34mGoing to initiate execution of operator DICOMDataLoaderOperator\u001b[39m\n",
      "\u001b[32mExecuting operator DICOMDataLoaderOperator \u001b[33m(Process ID: 1, Operator ID: 834c7259-377d-41f2-a293-d1cd57b6bf55)\u001b[39m\n",
      "\u001b[34mDone performing execution of operator DICOMDataLoaderOperator\n",
      "\u001b[39m\n",
      "\u001b[34mGoing to initiate execution of operator DICOMSeriesSelectorOperator\u001b[39m\n",
      "\u001b[32mExecuting operator DICOMSeriesSelectorOperator \u001b[33m(Process ID: 1, Operator ID: d6077359-8953-4373-95e1-4e67e425f456)\u001b[39m\n",
      "\u001b[34mDone performing execution of operator DICOMSeriesSelectorOperator\n",
      "\u001b[39m\n",
      "\u001b[34mGoing to initiate execution of operator DICOMSeriesToVolumeOperator\u001b[39m\n",
      "\u001b[32mExecuting operator DICOMSeriesToVolumeOperator \u001b[33m(Process ID: 1, Operator ID: 4486a387-3838-4e67-9b38-02aa1371d616)\u001b[39m\n",
      "\u001b[34mDone performing execution of operator DICOMSeriesToVolumeOperator\n",
      "\u001b[39m\n",
      "\u001b[34mGoing to initiate execution of operator SpleenSegOperator\u001b[39m\n",
      "\u001b[32mExecuting operator SpleenSegOperator \u001b[33m(Process ID: 1, Operator ID: 8deba081-34b3-4f57-a674-eb5c01d9610c)\u001b[39m\n",
      "file written: /var/monai/output/prediction_output/Img_in_context/Img_in_context_seg.nii.gz.\n",
      "Output Seg image numpy array shaped: (515, 440, 440)\n",
      "Output Seg image pixel max value: 1\n",
      "\u001b[34mDone performing execution of operator SpleenSegOperator\n",
      "\u001b[39m\n",
      "\u001b[34mGoing to initiate execution of operator DICOMSegmentationWriterOperator\u001b[39m\n",
      "\u001b[32mExecuting operator DICOMSegmentationWriterOperator \u001b[33m(Process ID: 1, Operator ID: e73ad9a8-cd58-43c9-92d8-8dcc6ec57da7)\u001b[39m\n",
      "[2021-09-23 07:02:36,874] [INFO] (monai.deploy.operators.dicom_seg_writer_operator.DICOMSegWriter) - Number of DICOM instance datasets in the list: 515\n",
      "[2021-09-23 07:02:36,874] [INFO] (monai.deploy.operators.dicom_seg_writer_operator.DICOMSegWriter) - Number of slices in the numpy image: 515\n",
      "[2021-09-23 07:02:36,874] [INFO] (monai.deploy.operators.dicom_seg_writer_operator.DICOMSegWriter) - Labels of the segments: ['Spleen']\n",
      "[2021-09-23 07:02:38,802] [INFO] (monai.deploy.operators.dicom_seg_writer_operator.DICOMSegWriter) - Unique values in seg image: [0 1]\n",
      "[2021-09-23 07:02:41,048] [INFO] (monai.deploy.operators.dicom_seg_writer_operator.DICOMSegWriter) - Saving output file /var/monai/output/dicom_seg-DICOMSEG.dcm\n",
      "[2021-09-23 07:02:41,269] [INFO] (monai.deploy.operators.dicom_seg_writer_operator.DICOMSegWriter) - File saved.\n",
      "\u001b[34mDone performing execution of operator DICOMSegmentationWriterOperator\n",
      "\u001b[39m\n"
     ]
    }
   ],
   "metadata": {}
  },
  {
   "cell_type": "code",
   "execution_count": 100,
   "source": [
    "!ls output"
   ],
   "outputs": [
    {
     "output_type": "stream",
     "name": "stdout",
     "text": [
      "dicom_seg-DICOMSEG.dcm\tprediction_output\n"
     ]
    }
   ],
   "metadata": {}
  }
 ],
 "metadata": {
  "kernelspec": {
   "name": "python3",
   "display_name": "Python 3.7.5 64-bit"
  },
  "language_info": {
   "codemirror_mode": {
    "name": "ipython",
    "version": 3
   },
   "file_extension": ".py",
   "mimetype": "text/x-python",
   "name": "python",
   "nbconvert_exporter": "python",
   "pygments_lexer": "ipython3",
   "version": "3.7.5"
  },
  "interpreter": {
   "hash": "31f2aee4e71d21fbe5cf8b01ff0e069b9275f58929596ceb00d14d90e3e16cd6"
  }
 },
 "nbformat": 4,
 "nbformat_minor": 4
}