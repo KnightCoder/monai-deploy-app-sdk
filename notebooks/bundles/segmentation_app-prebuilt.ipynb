{
 "cells": [
  {
   "cell_type": "markdown",
   "metadata": {},
   "source": [
    "# Creating a Segmentation App with MONAI Deploy App SDK\n",
    "\n",
    "This tutorial shows how to create an organ segmentation application for a PyTorch model that has been trained with MONAI and packaged into a MONAI bundle. This is derived form the segmentation app tutorial notebook.\n",
    "\n",
    "### Setup environment\n"
   ]
  },
  {
   "cell_type": "code",
   "execution_count": 1,
   "metadata": {},
   "outputs": [],
   "source": [
    "%pip install --upgrade monai-deploy-app-sdk\n",
    "%pip install monai pydicom # for MONAI transforms"
   ]
  },
  {
   "cell_type": "markdown",
   "metadata": {},
   "source": [
    "### Download/Extract ai_spleen_seg_data from Google Drive"
   ]
  },
  {
   "cell_type": "code",
   "execution_count": 1,
   "metadata": {},
   "outputs": [
    {
     "name": "stdout",
     "output_type": "stream",
     "text": [
      "Requirement already satisfied: gdown in /home/localek10/miniconda3/envs/deploy/lib/python3.9/site-packages (4.4.0)\n",
      "Requirement already satisfied: beautifulsoup4 in /home/localek10/miniconda3/envs/deploy/lib/python3.9/site-packages (from gdown) (4.11.1)\n",
      "Requirement already satisfied: requests[socks] in /home/localek10/miniconda3/envs/deploy/lib/python3.9/site-packages (from gdown) (2.27.1)\n",
      "Requirement already satisfied: tqdm in /home/localek10/miniconda3/envs/deploy/lib/python3.9/site-packages (from gdown) (4.64.0)\n",
      "Requirement already satisfied: six in /home/localek10/miniconda3/envs/deploy/lib/python3.9/site-packages (from gdown) (1.16.0)\n",
      "Requirement already satisfied: filelock in /home/localek10/miniconda3/envs/deploy/lib/python3.9/site-packages (from gdown) (3.6.0)\n",
      "Requirement already satisfied: soupsieve>1.2 in /home/localek10/miniconda3/envs/deploy/lib/python3.9/site-packages (from beautifulsoup4->gdown) (2.3.2.post1)\n",
      "Requirement already satisfied: urllib3<1.27,>=1.21.1 in /home/localek10/miniconda3/envs/deploy/lib/python3.9/site-packages (from requests[socks]->gdown) (1.26.9)\n",
      "Requirement already satisfied: certifi>=2017.4.17 in /home/localek10/miniconda3/envs/deploy/lib/python3.9/site-packages (from requests[socks]->gdown) (2021.10.8)\n",
      "Requirement already satisfied: idna<4,>=2.5 in /home/localek10/miniconda3/envs/deploy/lib/python3.9/site-packages (from requests[socks]->gdown) (3.3)\n",
      "Requirement already satisfied: charset-normalizer~=2.0.0 in /home/localek10/miniconda3/envs/deploy/lib/python3.9/site-packages (from requests[socks]->gdown) (2.0.12)\n",
      "Requirement already satisfied: PySocks!=1.5.7,>=1.5.6 in /home/localek10/miniconda3/envs/deploy/lib/python3.9/site-packages (from requests[socks]->gdown) (1.7.1)\n",
      "Downloading...\n",
      "From: https://drive.google.com/uc?id=1GC_N8YQk_mOWN02oOzAU_2YDmNRWk--n\n",
      "To: /home/localek10/workspace/monai/monai-deploy-app-sdk/notebooks/bundles/ai_spleen_seg_data_updated_1203.zip\n",
      "100%|████████████████████████████████████████| 104M/104M [00:03<00:00, 26.7MB/s]\n"
     ]
    }
   ],
   "source": [
    "# Download ai_spleen_seg_data test data zip file\n",
    "!pip install gdown \n",
    "!gdown \"https://drive.google.com/uc?id=1GC_N8YQk_mOWN02oOzAU_2YDmNRWk--n\"\n",
    "\n",
    "# After downloading ai_spleen_seg_data zip file from the web browser or using gdown,\n",
    "!unzip -qo \"ai_spleen_seg_data_updated_1203.zip\""
   ]
  },
  {
   "cell_type": "markdown",
   "metadata": {},
   "source": [
    "## Create Bundle From Torchscript Object"
   ]
  },
  {
   "cell_type": "code",
   "execution_count": 3,
   "metadata": {},
   "outputs": [],
   "source": [
    "!mkdir -p spleen_segmentation\n",
    "!mkdir -p spleen_segmentation/configs\n",
    "!mkdir -p spleen_segmentation/models"
   ]
  },
  {
   "cell_type": "code",
   "execution_count": 7,
   "metadata": {},
   "outputs": [
    {
     "name": "stderr",
     "output_type": "stream",
     "text": [
      "/home/localek10/miniconda3/envs/deploy/lib/python3.9/site-packages/tqdm/auto.py:22: TqdmWarning: IProgress not found. Please update jupyter and ipywidgets. See https://ipywidgets.readthedocs.io/en/stable/user_install.html\n",
      "  from .autonotebook import tqdm as notebook_tqdm\n"
     ]
    }
   ],
   "source": [
    "import torch\n",
    "obj=torch.jit.load(\"model.ts\")\n",
    "state=obj.state_dict()\n",
    "torch.save({k:v.clone().cpu() for k,v in state.items()},\"spleen_segmentation/models/model.pt\")"
   ]
  },
  {
   "cell_type": "code",
   "execution_count": 12,
   "metadata": {},
   "outputs": [
    {
     "name": "stdout",
     "output_type": "stream",
     "text": [
      "Overwriting spleen_segmentation/configs/metadata.json\n"
     ]
    }
   ],
   "source": [
    "%%writefile spleen_segmentation/configs/metadata.json\n",
    "\n",
    "{\n",
    "    \"schema\": \"https://github.com/Project-MONAI/MONAI-extra-test-data/releases/download/0.8.1/meta_schema_20220324.json\",\n",
    "    \"version\": \"0.1.0\",\n",
    "    \"changelog\": { \"0.0.1\": \"initialize the model package structure\"},\n",
    "    \"monai_version\": \"0.8.0\",\n",
    "    \"pytorch_version\": \"1.10.0\",\n",
    "    \"numpy_version\": \"1.21.2\",\n",
    "    \"optional_packages_version\": {    },\n",
    "    \"network_def\": {\n",
    "        \"_target_\": \"UNet\",\n",
    "        \"spatial_dims\": 3,\n",
    "        \"in_channels\": 1,\n",
    "        \"out_channels\": 2,\n",
    "        \"channels\": [16, 32, 64, 128, 256],\n",
    "        \"strides\": [2, 2, 2, 2],\n",
    "        \"num_res_units\": 2,\n",
    "        \"norm\": \"batch\"\n",
    "    },\n",
    "    \"task\": \"Spleen Segmentation\",\n",
    "    \"description\": \"A pre-trained model for segmenting the spleen\",\n",
    "    \"authors\": \"MONAI team\",\n",
    "    \"copyright\": \"Copyright (c) MONAI Consortium\",\n",
    "    \"data_source\": \"Speen data from the Medical Segmentation Decathlon\",\n",
    "    \"data_type\": \"dicom\",\n",
    "    \"image_classes\": \"single channel data, intensity scaled to [0, 1]\",\n",
    "    \"label_classes\": \"single channel data, 0 is background, 1 is segmentation\",\n",
    "    \"pred_classes\": \"2 channel probability data\",\n",
    "    \"intended_use\": \"This is an example, not to be used for diagnostic purposes\",\n",
    "    \"network_data_format\": {\n",
    "        \"inputs\": {\n",
    "            \"image\": {\n",
    "                \"type\": \"image\",\n",
    "                \"format\": \"magnitude\",\n",
    "                \"num_channels\": 1,\n",
    "                \"spatial_shape\": [160, 160, 160],\n",
    "                \"dtype\": \"float32\",\n",
    "                \"value_range\": [],\n",
    "                \"is_patch_data\": true,\n",
    "                \"channel_def\": {\"0\": \"image\"}\n",
    "            }\n",
    "        },\n",
    "        \"outputs\": {\n",
    "            \"pred\": {\n",
    "                \"type\": \"image\",\n",
    "                \"format\": \"segmentation\",\n",
    "                \"num_channels\": 2,\n",
    "                \"spatial_shape\": [160,160,160],\n",
    "                \"dtype\": \"float32\",\n",
    "                \"value_range\": [],\n",
    "                \"is_patch_data\": true,\n",
    "                \"channel_def\": {\n",
    "                    \"0\": \"background\",\n",
    "                    \"1\": \"foreground\"\n",
    "                }\n",
    "            }\n",
    "        }\n",
    "    }\n",
    "}"
   ]
  },
  {
   "cell_type": "code",
   "execution_count": 7,
   "metadata": {},
   "outputs": [
    {
     "name": "stdout",
     "output_type": "stream",
     "text": [
      "Overwriting spleen_segmentation/configs/inference.json\n"
     ]
    }
   ],
   "source": [
    "%%writefile spleen_segmentation/configs/inference.json\n",
    "\n",
    "{\n",
    "    \"imports\": [\n",
    "        \"$import glob\",\n",
    "        \"$import os\"\n",
    "    ],\n",
    "    \"device\": \"$torch.device('cuda:0' if torch.cuda.is_available() else 'cpu')\",\n",
    "    \"ckpt_path\": \"$@bundle_root + '/models/model.pt'\",\n",
    "    \"dataset_dir\": \"/workspace/data\",\n",
    "    \"datalist\": \"$list(sorted(glob.glob(@dataset_dir + '/*/*.nii')))\",\n",
    "    \"network_def\": {\n",
    "        \"_target_\": \"UNet\",\n",
    "        \"spatial_dims\": 3,\n",
    "        \"in_channels\": 1,\n",
    "        \"out_channels\": 2,\n",
    "        \"channels\": [16, 32, 64, 128, 256],\n",
    "        \"strides\": [2, 2, 2, 2],\n",
    "        \"num_res_units\": 2,\n",
    "        \"norm\": \"batch\"\n",
    "    },\n",
    "    \"network\": \"$@network_def.to(@device)\",\n",
    "    \"preprocessing\": {\n",
    "        \"_target_\": \"Compose\",\n",
    "        \"transforms\": [\n",
    "            {\n",
    "                \"_target_\": \"LoadImaged\",\n",
    "                \"keys\": \"image\"\n",
    "            },\n",
    "            {\n",
    "                \"_target_\": \"AddChanneld\",\n",
    "                \"keys\": \"image\"\n",
    "            },\n",
    "            {\n",
    "                \"_target_\": \"Orientationd\",\n",
    "                \"keys\": \"image\",\n",
    "                \"axcodes\": \"RAS\"\n",
    "            },\n",
    "            {\n",
    "                \"_target_\": \"Spacingd\",\n",
    "                \"keys\": \"image\",\n",
    "                \"pixdim\": [1.0, 1.0, 1.0],\n",
    "                \"mode\": [\"bilinear\"],\n",
    "                \"align_corners\": true\n",
    "            },\n",
    "            {\n",
    "                \"_target_\": \"ScaleIntensityRanged\",\n",
    "                \"keys\": \"image\",\n",
    "                \"a_min\":-57, \n",
    "                \"a_max\":164, \n",
    "                \"b_min\":0.0, \n",
    "                \"b_max\":1.0, \n",
    "                \"clip\": true\n",
    "            },\n",
    "            {\n",
    "                \"_target_\": \"EnsureTyped\",\n",
    "                \"keys\": \"image\"\n",
    "            }\n",
    "        ]\n",
    "    },\n",
    "    \"dataset\": {\n",
    "        \"_target_\": \"Dataset\",\n",
    "        \"data\": \"$[{'image': i} for i in @datalist]\",\n",
    "        \"transform\": \"@preprocessing\"\n",
    "    },\n",
    "    \"dataloader\": {\n",
    "        \"_target_\": \"DataLoader\",\n",
    "        \"dataset\": \"@dataset\",\n",
    "        \"batch_size\": 1,\n",
    "        \"shuffle\": false,\n",
    "        \"num_workers\": 0\n",
    "    },\n",
    "    \"inferer\": {\n",
    "        \"_target_\": \"SlidingWindowInferer\",\n",
    "        \"roi_size\": [160, 160, 160],\n",
    "        \"sw_batch_size\": 4,\n",
    "        \"device\": \"@device\"\n",
    "    },\n",
    "    \"postprocessing\": {\n",
    "        \"_target_\": \"Compose\",\n",
    "        \"transforms\": [\n",
    "            {\n",
    "                \"_target_\": \"Activationsd\",\n",
    "                \"keys\": \"pred\",\n",
    "                \"softmax\": true\n",
    "            },\n",
    "            {\n",
    "                \"_target_\": \"AsDiscreted\",\n",
    "                \"keys\": \"pred\",\n",
    "                \"argmax\": true\n",
    "            },\n",
    "            {\n",
    "                \"_target_\": \"Invertd\",\n",
    "                \"keys\": \"pred\",\n",
    "                \"orig_keys\": \"image\",\n",
    "                \"nearest_interp\": true,\n",
    "                \"transform\": \"@preprocessing\",\n",
    "                \"_disabled_\": true\n",
    "            },\n",
    "            {\n",
    "                \"_target_\": \"CastToTyped\",\n",
    "                \"keys\": \"pred\",\n",
    "                \"dtype\": \"$numpy.uint8\"\n",
    "            },\n",
    "            {\n",
    "                \"_target_\": \"SaveImaged\",\n",
    "                \"keys\": \"pred\",\n",
    "                \"output_dir\": \"output\",\n",
    "                \"output_postfix\": \"seg\",\n",
    "                \"output_dtype\": \"uint8\",\n",
    "                \"resample\": false\n",
    "            }\n",
    "        ]\n",
    "    },\n",
    "    \"handlers\": [\n",
    "        {\n",
    "            \"_target_\": \"CheckpointLoader\",\n",
    "            \"_disabled_\": \"$not os.path.exists(@ckpt_path)\",\n",
    "            \"load_path\": \"@ckpt_path\",\n",
    "            \"load_dict\": {\"model\": \"@network\"}\n",
    "        }\n",
    "    ],\n",
    "    \"evaluator\": {\n",
    "        \"_target_\": \"SupervisedEvaluator\",\n",
    "        \"device\": \"@device\",\n",
    "        \"val_data_loader\": \"@dataloader\",\n",
    "        \"network\": \"@network\",\n",
    "        \"inferer\": \"@inferer\",\n",
    "        \"postprocessing\": \"@postprocessing\",\n",
    "        \"val_handlers\": \"@handlers\",\n",
    "        \"amp\": true\n",
    "    }\n",
    "}"
   ]
  },
  {
   "cell_type": "code",
   "execution_count": 8,
   "metadata": {},
   "outputs": [
    {
     "name": "stdout",
     "output_type": "stream",
     "text": [
      "2022-05-13 00:30:17,976 - INFO - --- input summary of monai.bundle.scripts.ckpt_export ---\n",
      "2022-05-13 00:30:17,976 - INFO - > net_id: 'network_def'\n",
      "2022-05-13 00:30:17,976 - INFO - > filepath: 'spleen_segmentation.ts'\n",
      "2022-05-13 00:30:17,976 - INFO - > meta_file: 'spleen_segmentation/configs/metadata.json'\n",
      "2022-05-13 00:30:17,976 - INFO - > config_file: 'spleen_segmentation/configs/inference.json'\n",
      "2022-05-13 00:30:17,976 - INFO - > ckpt_file: 'spleen_segmentation/models/model.pt'\n",
      "2022-05-13 00:30:17,976 - INFO - ---\n",
      "\n",
      "\n",
      "'dst' model updated: 148 of 148 variables.\n",
      "2022-05-13 00:30:18,526 - INFO - exported to TorchScript file: spleen_segmentation.ts.\n"
     ]
    }
   ],
   "source": [
    "!python  -m monai.bundle ckpt_export network_def \\\n",
    "    --filepath spleen_segmentation.ts \\\n",
    "    --ckpt_file spleen_segmentation/models/model.pt \\\n",
    "    --meta_file spleen_segmentation/configs/metadata.json \\\n",
    "    --config_file spleen_segmentation/configs/inference.json"
   ]
  },
  {
   "cell_type": "code",
   "execution_count": 3,
   "metadata": {},
   "outputs": [],
   "source": [
    "import monai.deploy.core as md\n",
    "from monai.deploy.core import Application, resource, IOType,Operator, InputContext, OutputContext, ExecutionContext, IOType, Image\n",
    "from monai.deploy.operators import BundleOperator, create_bundle_operator\n",
    "from monai.deploy.operators.dicom_data_loader_operator import DICOMDataLoaderOperator\n",
    "from monai.deploy.operators.dicom_seg_writer_operator import DICOMSegmentationWriterOperator\n",
    "from monai.deploy.operators.dicom_series_selector_operator import DICOMSeriesSelectorOperator\n",
    "from monai.deploy.operators.dicom_series_to_volume_operator import DICOMSeriesToVolumeOperator\n",
    "\n",
    "import numpy as np\n",
    "\n",
    "@md.input(\"image\", Image, IOType.IN_MEMORY)\n",
    "class DebugOperator(Operator):\n",
    "    def compute(self, op_input: InputContext, op_output: OutputContext, context: ExecutionContext):\n",
    "        input_image = op_input.get(\"image\").asnumpy()\n",
    "        print(f\"Image shape: {input_image.shape}, dtype: {input_image.dtype}, unique values: {np.unique(input_image)}\")\n",
    "\n",
    "@resource(cpu=1, gpu=1, memory=\"7Gi\")\n",
    "class AISpleenSegApp(Application):\n",
    "    def __init__(self, model_path):\n",
    "        self.model_path=model_path\n",
    "        super().__init__()\n",
    "        \n",
    "    def compose(self):\n",
    "\n",
    "        study_loader_op = DICOMDataLoaderOperator()\n",
    "        series_selector_op = DICOMSeriesSelectorOperator()\n",
    "        series_to_vol_op = DICOMSeriesToVolumeOperator()\n",
    "        # Creates DICOM Seg writer with segment label name in a string list\n",
    "        dicom_seg_writer = DICOMSegmentationWriterOperator(seg_labels=[\"Spleen\"])\n",
    "\n",
    "        # Creates the model specific segmentation operator\n",
    "        spleen_seg_op = create_bundle_operator(self.model_path, \"inference\",out_type=IOType.DISK)\n",
    "\n",
    "        # Creates the DAG by linking the operators\n",
    "        self.add_flow(study_loader_op, series_selector_op, {\"dicom_study_list\": \"dicom_study_list\"})\n",
    "        self.add_flow(series_selector_op, series_to_vol_op, {\"study_selected_series_list\": \"study_selected_series_list\"})\n",
    "        self.add_flow(series_to_vol_op, spleen_seg_op, {\"image\": \"image\"})\n",
    "\n",
    "        self.add_flow(spleen_seg_op,DebugOperator())\n",
    "        # self.add_flow(series_selector_op, dicom_seg_writer, {\"study_selected_series_list\": \"study_selected_series_list\"})\n",
    "        # self.add_flow(spleen_seg_op, dicom_seg_writer, {\"pred\": \"seg_image\"})"
   ]
  },
  {
   "cell_type": "code",
   "execution_count": 4,
   "metadata": {},
   "outputs": [
    {
     "name": "stdout",
     "output_type": "stream",
     "text": [
      "\u001b[34mGoing to initiate execution of operator DICOMDataLoaderOperator\u001b[39m\n",
      "\u001b[32mExecuting operator DICOMDataLoaderOperator \u001b[33m(Process ID: 960244, Operator ID: e15cb868-b682-4d15-9ba6-0032399b55a9)\u001b[39m\n"
     ]
    },
    {
     "name": "stderr",
     "output_type": "stream",
     "text": [
      "[2022-05-19 14:44:47,108] [WARNING] (root) - No selection rules given; select all series.\n",
      "[2022-05-19 14:44:47,108] [INFO] (root) - Working on study, instance UID: 1.2.826.0.1.3680043.2.1125.1.67295333199898911264201812221946213\n",
      "[2022-05-19 14:44:47,109] [INFO] (root) - Working on series, instance UID: 1.2.826.0.1.3680043.2.1125.1.68102559796966796813942775094416763\n"
     ]
    },
    {
     "name": "stdout",
     "output_type": "stream",
     "text": [
      "\u001b[34mDone performing execution of operator DICOMDataLoaderOperator\n",
      "\u001b[39m\n",
      "\u001b[34mGoing to initiate execution of operator DICOMSeriesSelectorOperator\u001b[39m\n",
      "\u001b[32mExecuting operator DICOMSeriesSelectorOperator \u001b[33m(Process ID: 960244, Operator ID: d4a47c31-899f-44c4-a916-ae5eae982cfb)\u001b[39m\n",
      "Working on study, instance UID: 1.2.826.0.1.3680043.2.1125.1.67295333199898911264201812221946213\n",
      "Working on series, instance UID: 1.2.826.0.1.3680043.2.1125.1.68102559796966796813942775094416763\n",
      "\u001b[34mDone performing execution of operator DICOMSeriesSelectorOperator\n",
      "\u001b[39m\n",
      "\u001b[34mGoing to initiate execution of operator DICOMSeriesToVolumeOperator\u001b[39m\n",
      "\u001b[32mExecuting operator DICOMSeriesToVolumeOperator \u001b[33m(Process ID: 960244, Operator ID: 27390719-1be6-4216-ada3-24b8c2a8d242)\u001b[39m\n",
      "\u001b[34mDone performing execution of operator DICOMSeriesToVolumeOperator\n",
      "\u001b[39m\n",
      "\u001b[34mGoing to initiate execution of operator BundleOperator\u001b[39m\n",
      "\u001b[32mExecuting operator BundleOperator \u001b[33m(Process ID: 960244, Operator ID: 2b71460a-3840-43ea-9b59-4948dc253c94)\u001b[39m\n",
      "\u001b[34mDone performing execution of operator BundleOperator\n",
      "\u001b[39m\n",
      "\u001b[34mGoing to initiate execution of operator DebugOperator\u001b[39m\n",
      "\u001b[32mExecuting operator DebugOperator \u001b[33m(Process ID: 960244, Operator ID: bcd82dfc-725a-44a1-90eb-382a49e7af9c)\u001b[39m\n",
      "Image shape: (1, 515, 440, 440), dtype: uint8, unique values: [0 1]\n",
      "\u001b[34mDone performing execution of operator DebugOperator\n",
      "\u001b[39m\n"
     ]
    }
   ],
   "source": [
    "app = AISpleenSegApp(\"spleen_segmentation.ts\")\n",
    "\n",
    "app.run(input=\"dcm\", output=\"output\", model=\"spleen_segmentation.ts\")"
   ]
  }
 ],
 "metadata": {
  "interpreter": {
   "hash": "31f2aee4e71d21fbe5cf8b01ff0e069b9275f58929596ceb00d14d90e3e16cd6"
  },
  "kernelspec": {
   "display_name": "Python [conda env:deploy]",
   "language": "python",
   "name": "conda-env-deploy-py"
  },
  "language_info": {
   "codemirror_mode": {
    "name": "ipython",
    "version": 3
   },
   "file_extension": ".py",
   "mimetype": "text/x-python",
   "name": "python",
   "nbconvert_exporter": "python",
   "pygments_lexer": "ipython3",
   "version": "3.9.12"
  }
 },
 "nbformat": 4,
 "nbformat_minor": 4
}
