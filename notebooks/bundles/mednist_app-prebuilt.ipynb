{
 "cells": [
  {
   "cell_type": "markdown",
   "metadata": {},
   "source": [
    "# Deploying a MedNIST Classifier App with MONAI Deploy App SDK (Prebuilt Model)\n",
    "\n",
    "This tutorial demos the process of packaging up a trained model using MONAI Deploy App SDK very much like the tutorial MedNIST notebook, however this will use the `BundleOperator` class to simplify the process of defining inference for the network. This relies on the network being packaged with the application as a MONAI bundle, which is a saved Torchscript model (or just network weights) packaged with data files containing meta information describing what the network does, how to use it, and other information."
   ]
  },
  {
   "cell_type": "markdown",
   "metadata": {},
   "source": [
    "## Install SDK and MONAI"
   ]
  },
  {
   "cell_type": "code",
   "execution_count": null,
   "metadata": {},
   "outputs": [],
   "source": [
    "!pip install --upgrade monai-deploy-app-sdk\n",
    "!pip install monai Pillow  # for MONAI transforms and Pillow"
   ]
  },
  {
   "cell_type": "markdown",
   "metadata": {},
   "source": [
    "## Download/Extract mednist_classifier_data.zip from Google Drive"
   ]
  },
  {
   "cell_type": "code",
   "execution_count": null,
   "metadata": {},
   "outputs": [],
   "source": [
    "# Download mednist_classifier_data.zip\n",
    "!pip install gdown \n",
    "!gdown \"https://drive.google.com/uc?id=1yJ4P-xMNEfN6lIOq_u6x1eMAq1_MJu-E\""
   ]
  },
  {
   "cell_type": "code",
   "execution_count": null,
   "metadata": {},
   "outputs": [],
   "source": [
    "# After downloading mednist_classifier_data.zip from the web browser or using gdown,\n",
    "!unzip -o \"mednist_classifier_data.zip\""
   ]
  },
  {
   "cell_type": "markdown",
   "metadata": {},
   "source": [
    "## Create Bundle From Torchscript Object\n",
    "\n",
    "Bundles are individual networks packaged together with metadata and configuration data. This is provided here in full with model weights extracted from the saved Torchscript network.\n",
    "\n",
    "First thing is to create the directory structure for the bundle:"
   ]
  },
  {
   "cell_type": "code",
   "execution_count": null,
   "metadata": {},
   "outputs": [],
   "source": [
    "!mkdir -p mednist_classifier\n",
    "!mkdir -p mednist_classifier/configs\n",
    "!mkdir -p mednist_classifier/models"
   ]
  },
  {
   "cell_type": "markdown",
   "metadata": {},
   "source": [
    "Next is to load the Torchscript object and save its weights to the file in the bundle, this is needed here because the prebuilt model is distributed in this format:"
   ]
  },
  {
   "cell_type": "code",
   "execution_count": null,
   "metadata": {},
   "outputs": [],
   "source": [
    "import torch\n",
    "obj=torch.jit.load(\"classifier.zip\")\n",
    "state=obj.state_dict()\n",
    "torch.save({k:v.clone().cpu() for k,v in state.items()},\"mednist_classifier/models/model.pt\")"
   ]
  },
  {
   "cell_type": "markdown",
   "metadata": {},
   "source": [
    "Bundles represent their metadata as JSON or YAML files containing dictionaries of important information. One file which must always be present is `metadata.json` containing a wide range of information about the model which is both used by software and is human-readable:"
   ]
  },
  {
   "cell_type": "code",
   "execution_count": null,
   "metadata": {},
   "outputs": [],
   "source": [
    "%%writefile mednist_classifier/configs/metadata.json\n",
    "\n",
    "{\n",
    "    \"schema\": \"https://github.com/Project-MONAI/MONAI-extra-test-data/releases/download/0.8.1/meta_schema_20220324.json\",\n",
    "    \"version\": \"0.1.0\",\n",
    "    \"changelog\": { \"0.0.1\": \"initialize the model package structure\"},\n",
    "    \"monai_version\": \"0.8.0\",\n",
    "    \"pytorch_version\": \"1.10.0\",\n",
    "    \"numpy_version\": \"1.21.2\",\n",
    "    \"optional_packages_version\": {    },\n",
    "    \"network_def\": {\n",
    "        \"_target_\": \"DenseNet121\",\n",
    "        \"spatial_dims\": 2,\n",
    "        \"in_channels\": 1,\n",
    "        \"out_channels\": 6\n",
    "    },\n",
    "    \"task\": \"MedNIST Classification\",\n",
    "    \"description\": \"A pre-trained model for classifying MedNIST images\",\n",
    "    \"authors\": \"MONAI team\",\n",
    "    \"copyright\": \"Copyright (c) MONAI Consortium\",\n",
    "    \"data_source\": \"MedNIST data from MONAI Tutorials\",\n",
    "    \"data_type\": \"jpeg\",\n",
    "    \"image_classes\": \"single channel data, intensity scaled to [0, 1]\",\n",
    "    \"label_classes\": \"single channel data, 0 is AbdomenCT, 1 is BreastMRI, 2 is CXR, 3 is ChestCT, 4 is Hand, 5 is HeadCT\",\n",
    "    \"pred_classes\": \"6 channel one-hot data\",\n",
    "    \"intended_use\": \"This is an example, not to be used for diagnostic purposes\",\n",
    "    \"network_data_format\": {\n",
    "        \"inputs\": {\n",
    "            \"image\": {\n",
    "                \"type\": \"image\",\n",
    "                \"format\": \"magnitude\",\n",
    "                \"num_channels\": 1,\n",
    "                \"spatial_shape\": [64, 64],\n",
    "                \"dtype\": \"float32\",\n",
    "                \"value_range\": [0, 1],\n",
    "                \"is_patch_data\": false,\n",
    "                \"channel_def\": {\"0\": \"image\"}\n",
    "            }\n",
    "        },\n",
    "        \"outputs\": {\n",
    "            \"pred\": {\n",
    "                \"type\": \"probabilities\",\n",
    "                \"format\": \"labels\",\n",
    "                \"num_channels\": 6,\n",
    "                \"spatial_shape\": [1],\n",
    "                \"dtype\": \"float32\",\n",
    "                \"value_range\": [],\n",
    "                \"is_patch_data\": false,\n",
    "                \"channel_def\": {\n",
    "                    \"0\": \"AbdomenCT\",\n",
    "                    \"1\": \"BreastMRI\",\n",
    "                    \"2\": \"CXR\",\n",
    "                    \"3\": \"ChestCT\",\n",
    "                    \"4\": \"Hand\",\n",
    "                    \"5\": \"HeadCT\"\n",
    "                }\n",
    "            }\n",
    "        }\n",
    "    }\n",
    "}"
   ]
  },
  {
   "cell_type": "markdown",
   "metadata": {},
   "source": [
    "A script used to define an inference program independent of any script is provided here. Parts of this script will be used in the operator, specifically those parts defining transform sequences, devices, inferers, and the network itself:"
   ]
  },
  {
   "cell_type": "code",
   "execution_count": 5,
   "metadata": {},
   "outputs": [
    {
     "name": "stdout",
     "output_type": "stream",
     "text": [
      "Overwriting mednist_classifier/configs/inference.json\n"
     ]
    }
   ],
   "source": [
    "%%writefile mednist_classifier/configs/inference.json\n",
    "\n",
    "{\n",
    "    \"imports\": [\n",
    "        \"$import glob\",\n",
    "        \"$import os\"\n",
    "    ],\n",
    "    \"device\": \"$torch.device('cuda:0' if torch.cuda.is_available() else 'cpu')\",\n",
    "    \"ckpt_path\": \"./mednist_classifier/models/model.pt\",\n",
    "    \"dataset_dir\": \"/workspace/data\",\n",
    "    \"datalist\": \"$list(sorted(glob.glob(@dataset_dir + '/*/00979*.jpeg')))\",\n",
    "    \"network_def\": {\n",
    "        \"_target_\": \"DenseNet121\",\n",
    "        \"spatial_dims\": 2,\n",
    "        \"in_channels\": 1,\n",
    "        \"out_channels\": 6\n",
    "    },\n",
    "    \"network\": \"$@network_def.to(@device)\",\n",
    "    \"preprocessing\": {\n",
    "        \"_target_\": \"Compose\",\n",
    "        \"transforms\": [\n",
    "            {\n",
    "                \"_target_\": \"LoadImaged\",\n",
    "                \"keys\": \"image\"\n",
    "            },\n",
    "            {\n",
    "                \"_target_\": \"AddChanneld\",\n",
    "                \"keys\": \"image\"\n",
    "            },\n",
    "            {\n",
    "                \"_target_\": \"ScaleIntensityd\",\n",
    "                \"keys\": \"image\"\n",
    "            },\n",
    "            {\n",
    "                \"_target_\": \"EnsureTyped\",\n",
    "                \"keys\": \"image\",\n",
    "                \"device\": \"@device\"\n",
    "            }\n",
    "        ]\n",
    "    },\n",
    "    \"dataset\": {\n",
    "        \"_target_\": \"Dataset\",\n",
    "        \"data\": \"$[{'image': i} for i in @datalist]\",\n",
    "        \"transform\": \"@preprocessing\"\n",
    "    },\n",
    "    \"dataloader\": {\n",
    "        \"_target_\": \"DataLoader\",\n",
    "        \"dataset\": \"@dataset\",\n",
    "        \"batch_size\": 1,\n",
    "        \"shuffle\": false,\n",
    "        \"num_workers\": 0\n",
    "    },\n",
    "    \"inferer\": {\n",
    "        \"_target_\": \"SimpleInferer\"\n",
    "    },\n",
    "    \"postprocessing\": {\n",
    "        \"_target_\": \"Compose\",\n",
    "        \"transforms\": [\n",
    "            {\n",
    "                \"_target_\": \"Activationsd\",\n",
    "                \"keys\": \"pred\",\n",
    "                \"softmax\": true\n",
    "            },\n",
    "            {\n",
    "                \"_target_\": \"AsDiscreted\",\n",
    "                \"keys\": \"pred\",\n",
    "                \"argmax\": true\n",
    "            }\n",
    "        ]\n",
    "    },\n",
    "    \"handlers\": [\n",
    "        {\n",
    "            \"_target_\": \"CheckpointLoader\",\n",
    "            \"_disabled_\": \"$not os.path.exists(@ckpt_path)\",\n",
    "            \"load_path\": \"@ckpt_path\",\n",
    "            \"load_dict\": {\"model\": \"@network\"}\n",
    "        }\n",
    "    ],\n",
    "    \"evaluator\": {\n",
    "        \"_target_\": \"SupervisedEvaluator\",\n",
    "        \"device\": \"@device\",\n",
    "        \"val_data_loader\": \"@dataloader\",\n",
    "        \"network\": \"@network\",\n",
    "        \"inferer\": \"@inferer\",\n",
    "        \"postprocessing\": \"@postprocessing\",\n",
    "        \"val_handlers\": \"@handlers\",\n",
    "        \"amp\": true\n",
    "    }\n",
    "}"
   ]
  },
  {
   "cell_type": "markdown",
   "metadata": {},
   "source": [
    "A new bundle Torchscript object can then be created which will contain these components into the zip file stored in the MAP created later:"
   ]
  },
  {
   "cell_type": "code",
   "execution_count": null,
   "metadata": {},
   "outputs": [],
   "source": [
    "!python  -m monai.bundle ckpt_export network_def \\\n",
    "    --filepath mednist_classifier.ts \\\n",
    "    --ckpt_file mednist_classifier/models/model.pt \\\n",
    "    --meta_file mednist_classifier/configs/metadata.json \\\n",
    "    --config_file mednist_classifier/configs/inference.json"
   ]
  },
  {
   "cell_type": "markdown",
   "metadata": {},
   "source": [
    "The app file created here is much simpler than one which doesn't use bundles because the task of defining inference can be automatically configured within the `BundleOperator`:"
   ]
  },
  {
   "cell_type": "code",
   "execution_count": 2,
   "metadata": {},
   "outputs": [
    {
     "name": "stdout",
     "output_type": "stream",
     "text": [
      "Overwriting mednist_classifier_monaideploy_bundle.py\n"
     ]
    }
   ],
   "source": [
    "%%writefile mednist_classifier_monaideploy_bundle.py\n",
    "\n",
    "# Copyright 2021 MONAI Consortium\n",
    "# Licensed under the Apache License, Version 2.0 (the \"License\");\n",
    "# you may not use this file except in compliance with the License.\n",
    "# You may obtain a copy of the License at\n",
    "#     http://www.apache.org/licenses/LICENSE-2.0\n",
    "# Unless required by applicable law or agreed to in writing, software\n",
    "# distributed under the License is distributed on an \"AS IS\" BASIS,\n",
    "# WITHOUT WARRANTIES OR CONDITIONS OF ANY KIND, either express or implied.\n",
    "# See the License for the specific language governing permissions and\n",
    "# limitations under the License.\n",
    "\n",
    "import monai.deploy.core as md  # 'md' stands for MONAI Deploy (or can use 'core' instead)\n",
    "from monai.deploy.core import (\n",
    "    Application,\n",
    "    DataPath,\n",
    "    ExecutionContext,\n",
    "    Image,\n",
    "    InputContext,\n",
    "    IOType,\n",
    "    Operator,\n",
    "    OutputContext,\n",
    ")\n",
    "from monai.transforms import AddChannel, Compose, EnsureType, ScaleIntensity\n",
    "\n",
    "MEDNIST_CLASSES = [\"AbdomenCT\", \"BreastMRI\", \"CXR\", \"ChestCT\", \"Hand\", \"HeadCT\"]\n",
    "\n",
    "\n",
    "from monai.deploy.operators import create_bundle_operator\n",
    "\n",
    "\n",
    "@md.input(\"image\", DataPath, IOType.DISK)\n",
    "@md.output(\"image\", Image, IOType.IN_MEMORY)\n",
    "@md.env(pip_packages=[\"pillow\"])\n",
    "class LoadPILOperator(Operator):\n",
    "    \"\"\"Load image from the given input (DataPath) and set numpy array to the output (Image).\"\"\"\n",
    "\n",
    "    def compute(self, op_input: InputContext, op_output: OutputContext, context: ExecutionContext):\n",
    "        import numpy as np\n",
    "        from PIL import Image as PILImage\n",
    "\n",
    "        input_path = op_input.get().path\n",
    "        if input_path.is_dir():\n",
    "            input_path = next(input_path.glob(\"*.*\"))  # take the first file\n",
    "\n",
    "        image = PILImage.open(input_path)\n",
    "        image = image.convert(\"L\")  # convert to greyscale image\n",
    "        image_arr = np.asarray(image)\n",
    "\n",
    "        output_image = Image(image_arr)  # create Image domain object with a numpy array\n",
    "        op_output.set(output_image)\n",
    "        \n",
    "        \n",
    "@md.input(\"pred\",dict, IOType.IN_MEMORY)\n",
    "class PrintOperator(Operator):\n",
    "    def compute(self, op_input: InputContext, op_output: OutputContext, context: ExecutionContext):\n",
    "        print(\"Prediction output:\",op_input.get())\n",
    "        \n",
    "\n",
    "@md.resource(cpu=1, gpu=1, memory=\"1Gi\")\n",
    "class App(Application):\n",
    "    \"\"\"Application class for the MedNIST classifier.\"\"\"\n",
    "\n",
    "    def compose(self):\n",
    "        load_pil_op = LoadPILOperator()\n",
    "        \n",
    "        classifier_op = create_bundle_operator(self._context.model_path, \"inference\",out_type=IOType.IN_MEMORY)\n",
    "        \n",
    "        print_op = PrintOperator()\n",
    "\n",
    "        self.add_flow(load_pil_op, classifier_op)\n",
    "        self.add_flow(classifier_op, print_op)\n",
    "\n",
    "\n",
    "if __name__ == \"__main__\":\n",
    "    App(do_run=True)"
   ]
  },
  {
   "cell_type": "markdown",
   "metadata": {},
   "source": [
    "## Test Running App"
   ]
  },
  {
   "cell_type": "code",
   "execution_count": 3,
   "metadata": {},
   "outputs": [
    {
     "name": "stdout",
     "output_type": "stream",
     "text": [
      "/home/localek10/miniconda3/envs/deploy/lib/python3.9/site-packages/torch/cuda/__init__.py:82: UserWarning: CUDA initialization: Unexpected error from cudaGetDeviceCount(). Did you run some cuda functions before calling NumCudaDevices() that might have already set an error? Error 804: forward compatibility was attempted on non supported HW (Triggered internally at  ../c10/cuda/CUDAFunctions.cpp:112.)\n",
      "  return torch._C._cuda_getDeviceCount() > 0\n",
      "\u001b[34mGoing to initiate execution of operator LoadPILOperator\u001b[39m\n",
      "\u001b[32mExecuting operator LoadPILOperator \u001b[33m(Process ID: 872887, Operator ID: 88674d0b-d6c5-4ee7-b720-eefd1bf0fe4b)\u001b[39m\n",
      "\u001b[34mDone performing execution of operator LoadPILOperator\n",
      "\u001b[39m\n",
      "\u001b[34mGoing to initiate execution of operator BundleOperator\u001b[39m\n",
      "\u001b[32mExecuting operator BundleOperator \u001b[33m(Process ID: 872887, Operator ID: 5ed226b4-6dad-4e92-89c4-6de44643a73b)\u001b[39m\n",
      "\u001b[34mDone performing execution of operator BundleOperator\n",
      "\u001b[39m\n",
      "\u001b[34mGoing to initiate execution of operator PrintOperator\u001b[39m\n",
      "\u001b[32mExecuting operator PrintOperator \u001b[33m(Process ID: 872887, Operator ID: b6fa114c-41e6-436e-ba47-743325cfb70b)\u001b[39m\n",
      "Prediction output: {'result': ['AbdomenCT'], 'probabilities': array([0.], dtype=float32)}\n",
      "\u001b[34mDone performing execution of operator PrintOperator\n",
      "\u001b[39m\n"
     ]
    }
   ],
   "source": [
    "!python mednist_classifier_monaideploy_bundle.py -i input/AbdomenCT_007000.jpeg -o output -m mednist_classifier.ts"
   ]
  },
  {
   "cell_type": "markdown",
   "metadata": {},
   "source": [
    "## Package app (creating MAP Docker image)\n",
    "\n",
    "This assumes that nvidia docker is installed in the local machine.\n",
    "\n",
    "Please see https://docs.nvidia.com/datacenter/cloud-native/container-toolkit/install-guide.html#docker to install nvidia-docker2.\n",
    "\n",
    "Use `-l DEBUG` option to see progress."
   ]
  },
  {
   "cell_type": "code",
   "execution_count": 1,
   "metadata": {},
   "outputs": [
    {
     "name": "stdout",
     "output_type": "stream",
     "text": [
      "Building MONAI Application Package... Done\n",
      "[2022-05-19 13:35:24,262] [INFO] (app_packager) - Successfully built mednist_app:latest\n"
     ]
    }
   ],
   "source": [
    "!monai-deploy package mednist_classifier_monaideploy_bundle.py  -n\\\n",
    "    --tag mednist_app:latest \\\n",
    "    --model mednist_classifier.ts"
   ]
  },
  {
   "cell_type": "markdown",
   "metadata": {},
   "source": [
    "## Run the app with docker image and input file locally"
   ]
  },
  {
   "cell_type": "code",
   "execution_count": 2,
   "metadata": {},
   "outputs": [
    {
     "name": "stdout",
     "output_type": "stream",
     "text": [
      "Checking dependencies...\n",
      "--> Verifying if \"docker\" is installed...\n",
      "\n",
      "--> Verifying if \"mednist_app:latest\" is available...\n",
      "\n",
      "Checking for MAP \"mednist_app:latest\" locally\n",
      "\"mednist_app:latest\" found.\n",
      "\n",
      "Reading MONAI App Package manifest...\n",
      "-------------------application manifest-------------------\n",
      "{\n",
      "    \"api-version\": \"0.1.0\",\n",
      "    \"command\": \"python3 -u /opt/monai/app/mednist_classifier_monaideploy_bundle.py\",\n",
      "    \"environment\": {},\n",
      "    \"input\": {\n",
      "        \"formats\": [],\n",
      "        \"path\": \"input\"\n",
      "    },\n",
      "    \"output\": {\n",
      "        \"format\": {},\n",
      "        \"path\": \"output\"\n",
      "    },\n",
      "    \"sdk-version\": \"0.3.0+7.g1aa4d10.dirty\",\n",
      "    \"timeout\": 0,\n",
      "    \"version\": \"0.0.0\",\n",
      "    \"working-directory\": \"/var/monai/\"\n",
      "}\n",
      "----------------------------------------------\n",
      "\n",
      "-------------------package manifest-------------------\n",
      "{\n",
      "    \"api-version\": \"0.1.0\",\n",
      "    \"application-root\": \"/var/monai/\",\n",
      "    \"models\": [\n",
      "        {\n",
      "            \"name\": \"mednist_classifier-75dac13a25625be77add180d23738cd9b2dc9f08b512e5df3291324999dee6af\",\n",
      "            \"path\": \"/opt/monai/models/mednist_classifier/mednist_classifier.ts\"\n",
      "        }\n",
      "    ],\n",
      "    \"resources\": {\n",
      "        \"cpu\": 1,\n",
      "        \"gpu\": 1,\n",
      "        \"memory\": \"1024Mi\"\n",
      "    },\n",
      "    \"sdk-version\": \"0.3.0+7.g1aa4d10.dirty\",\n",
      "    \"version\": \"0.0.0\"\n",
      "}\n",
      "----------------------------------------------\n",
      "\n",
      "--> Verifying if \"nvidia-docker\" is installed...\n",
      "\n",
      "Executing command: nvidia-docker run --rm -a STDERR -a STDOUT -e MONAI_INPUTPATH=\"/var/monai/input\" -e MONAI_OUTPUTPATH=\"/var/monai/output\" -e MONAI_MODELPATH=/opt/monai/models -v \"/home/localek10/workspace/monai/monai-deploy-app-sdk/notebooks/bundles/input\":\"/var/monai/input\" -v \"/home/localek10/workspace/monai/monai-deploy-app-sdk/notebooks/bundles/output\":\"/var/monai/output\" --shm-size=1g --entrypoint \"/bin/bash\" \"mednist_app:latest\" -c \"python3 -u /opt/monai/app/mednist_classifier_monaideploy_bundle.py\"\n",
      "docker: Error response from daemon: failed to create shim: OCI runtime create failed: container_linux.go:380: starting container process caused: process_linux.go:545: container init caused: Running hook #1:: error running hook: exit status 1, stdout: , stderr: nvidia-container-cli: initialization error: nvml error: driver/library version mismatch: unknown.\n",
      "\n",
      "ERROR: MONAI Application \"mednist_app:latest\" failed.\n"
     ]
    }
   ],
   "source": [
    "!monai-deploy run -l DEBUG mednist_app:latest \"input\" \"output\""
   ]
  }
 ],
 "metadata": {
  "kernelspec": {
   "display_name": "Python [conda env:deploy]",
   "language": "python",
   "name": "conda-env-deploy-py"
  },
  "language_info": {
   "codemirror_mode": {
    "name": "ipython",
    "version": 3
   },
   "file_extension": ".py",
   "mimetype": "text/x-python",
   "name": "python",
   "nbconvert_exporter": "python",
   "pygments_lexer": "ipython3",
   "version": "3.9.12"
  }
 },
 "nbformat": 4,
 "nbformat_minor": 4
}
